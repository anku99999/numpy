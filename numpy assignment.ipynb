{
 "cells": [
  {
   "cell_type": "code",
   "execution_count": 5,
   "id": "1d2844b3-d87b-4027-8343-1f95a18c2fc9",
   "metadata": {},
   "outputs": [],
   "source": [
    "#1 >> Create a numPy array 'arr' of integer from 0 to 5 and print its data type.\n",
    "import numpy as np\n",
    "import random"
   ]
  },
  {
   "cell_type": "code",
   "execution_count": 416,
   "id": "37d2403b-05c0-4154-ad32-7ffe1e2c19a8",
   "metadata": {},
   "outputs": [],
   "source": [
    "arr=np.arange(0,6) # To find the number in sequential order"
   ]
  },
  {
   "cell_type": "code",
   "execution_count": 7,
   "id": "7200835c-11da-4fd3-9c80-1b29e68eae48",
   "metadata": {},
   "outputs": [
    {
     "data": {
      "text/plain": [
       "array([0, 1, 2, 3, 4, 5])"
      ]
     },
     "execution_count": 7,
     "metadata": {},
     "output_type": "execute_result"
    }
   ],
   "source": [
    "arr"
   ]
  },
  {
   "cell_type": "code",
   "execution_count": 417,
   "id": "3490ebdc-bc08-469e-8906-f0b2363e393f",
   "metadata": {},
   "outputs": [
    {
     "data": {
      "text/plain": [
       "dtype('int64')"
      ]
     },
     "execution_count": 417,
     "metadata": {},
     "output_type": "execute_result"
    }
   ],
   "source": [
    "arr.dtype  # To find the data type"
   ]
  },
  {
   "cell_type": "code",
   "execution_count": 9,
   "id": "0c6dd121-9e7c-4c49-9c83-c029bdd1b33f",
   "metadata": {},
   "outputs": [],
   "source": [
    "#2 >>>> Given a numPy array 'arr',check if its data type is float64.\n",
    "arr=np.array([1.5,2.6,3.7])"
   ]
  },
  {
   "cell_type": "code",
   "execution_count": 10,
   "id": "72508d1f-26f5-430c-921e-8b8d29b91067",
   "metadata": {},
   "outputs": [
    {
     "data": {
      "text/plain": [
       "array([1.5, 2.6, 3.7])"
      ]
     },
     "execution_count": 10,
     "metadata": {},
     "output_type": "execute_result"
    }
   ],
   "source": [
    "arr"
   ]
  },
  {
   "cell_type": "code",
   "execution_count": 11,
   "id": "318a8598-a1a3-4ec2-ae80-50289fc6d471",
   "metadata": {},
   "outputs": [
    {
     "data": {
      "text/plain": [
       "dtype('float64')"
      ]
     },
     "execution_count": 11,
     "metadata": {},
     "output_type": "execute_result"
    }
   ],
   "source": [
    "arr.dtype"
   ]
  },
  {
   "cell_type": "code",
   "execution_count": 12,
   "id": "117d18b6-c363-4103-9f97-bcf5573141fc",
   "metadata": {},
   "outputs": [],
   "source": [
    "# yes the data type is float64"
   ]
  },
  {
   "cell_type": "code",
   "execution_count": 13,
   "id": "fbf3b75e-4b32-40bb-8358-3cf31bc895dc",
   "metadata": {},
   "outputs": [],
   "source": [
    "#3 >>>> Create a numPy array 'arr' with a data type of complex 128 cointaining three complex number.\n",
    "list1=[5+6j,8+5j,9+2j]"
   ]
  },
  {
   "cell_type": "code",
   "execution_count": 14,
   "id": "42063a36-1b9e-4889-8cd1-0be2303df297",
   "metadata": {},
   "outputs": [],
   "source": [
    "arr=np.asarray(list1)"
   ]
  },
  {
   "cell_type": "code",
   "execution_count": 15,
   "id": "82e18415-5d0d-4ac5-bc72-098acd5d0959",
   "metadata": {},
   "outputs": [
    {
     "data": {
      "text/plain": [
       "array([5.+6.j, 8.+5.j, 9.+2.j])"
      ]
     },
     "execution_count": 15,
     "metadata": {},
     "output_type": "execute_result"
    }
   ],
   "source": [
    "arr"
   ]
  },
  {
   "cell_type": "code",
   "execution_count": 16,
   "id": "4b7b548d-23dd-4dfe-ba1a-b682b37acb35",
   "metadata": {},
   "outputs": [
    {
     "data": {
      "text/plain": [
       "dtype('complex128')"
      ]
     },
     "execution_count": 16,
     "metadata": {},
     "output_type": "execute_result"
    }
   ],
   "source": [
    "arr.dtype"
   ]
  },
  {
   "cell_type": "code",
   "execution_count": 17,
   "id": "9f6e0701-dc93-4d13-893d-17d3476c89bd",
   "metadata": {},
   "outputs": [],
   "source": [
    "#4 >>>> Convert an existing numPy array 'arr' of integers to float32 data type.\n",
    "arr=np.arange(1,5)"
   ]
  },
  {
   "cell_type": "code",
   "execution_count": 18,
   "id": "e071908a-bc54-43de-a405-5d233f711a81",
   "metadata": {},
   "outputs": [
    {
     "data": {
      "text/plain": [
       "array([1, 2, 3, 4])"
      ]
     },
     "execution_count": 18,
     "metadata": {},
     "output_type": "execute_result"
    }
   ],
   "source": [
    "arr"
   ]
  },
  {
   "cell_type": "code",
   "execution_count": 19,
   "id": "dfd7d906-b913-426c-941b-a0d065d7ae92",
   "metadata": {},
   "outputs": [
    {
     "data": {
      "text/plain": [
       "dtype('int64')"
      ]
     },
     "execution_count": 19,
     "metadata": {},
     "output_type": "execute_result"
    }
   ],
   "source": [
    "arr.dtype"
   ]
  },
  {
   "cell_type": "code",
   "execution_count": 418,
   "id": "1a644eaf-874a-40c6-aca6-396d4ee9c91c",
   "metadata": {},
   "outputs": [],
   "source": [
    "arr1=arr.astype(np.float32) # To changfe the data type of an array"
   ]
  },
  {
   "cell_type": "code",
   "execution_count": 21,
   "id": "4b7d1c6d-42a4-49c3-a8ab-9d74002a225c",
   "metadata": {},
   "outputs": [
    {
     "data": {
      "text/plain": [
       "array([1., 2., 3., 4.], dtype=float32)"
      ]
     },
     "execution_count": 21,
     "metadata": {},
     "output_type": "execute_result"
    }
   ],
   "source": [
    "arr1"
   ]
  },
  {
   "cell_type": "code",
   "execution_count": 22,
   "id": "8737f5f6-0d5b-4830-a801-9807ab2b3def",
   "metadata": {},
   "outputs": [
    {
     "data": {
      "text/plain": [
       "dtype('float32')"
      ]
     },
     "execution_count": 22,
     "metadata": {},
     "output_type": "execute_result"
    }
   ],
   "source": [
    "arr1.dtype"
   ]
  },
  {
   "cell_type": "code",
   "execution_count": 23,
   "id": "482fd50e-306d-4585-b8de-859f36542767",
   "metadata": {},
   "outputs": [],
   "source": [
    "#5 >>>>> Given a numpy array 'arr' with float64 data type, convert it into float32 to reduce the decimal precision.\n",
    "list2=[1.55,1.43,1.31,1.23]"
   ]
  },
  {
   "cell_type": "code",
   "execution_count": 24,
   "id": "fc0604fe-d079-4fac-913f-4df843f27048",
   "metadata": {},
   "outputs": [],
   "source": [
    "arr1=np.asarray(list2)"
   ]
  },
  {
   "cell_type": "code",
   "execution_count": 25,
   "id": "577bb369-d8e0-413c-8fad-9a5c2865ded6",
   "metadata": {},
   "outputs": [
    {
     "data": {
      "text/plain": [
       "array([1.55, 1.43, 1.31, 1.23])"
      ]
     },
     "execution_count": 25,
     "metadata": {},
     "output_type": "execute_result"
    }
   ],
   "source": [
    "arr1"
   ]
  },
  {
   "cell_type": "code",
   "execution_count": 26,
   "id": "1b01ae7e-600d-44bd-b562-bfdfa2b4202b",
   "metadata": {},
   "outputs": [
    {
     "data": {
      "text/plain": [
       "dtype('float64')"
      ]
     },
     "execution_count": 26,
     "metadata": {},
     "output_type": "execute_result"
    }
   ],
   "source": [
    "arr1.dtype"
   ]
  },
  {
   "cell_type": "code",
   "execution_count": 27,
   "id": "a2afcc2a-5e38-4734-a2f2-162511b11d75",
   "metadata": {},
   "outputs": [],
   "source": [
    "arr=arr1.astype(np.float32)"
   ]
  },
  {
   "cell_type": "code",
   "execution_count": 28,
   "id": "cc9c7975-697e-4aec-8c78-d44bbaf7095a",
   "metadata": {},
   "outputs": [
    {
     "data": {
      "text/plain": [
       "array([1.55, 1.43, 1.31, 1.23], dtype=float32)"
      ]
     },
     "execution_count": 28,
     "metadata": {},
     "output_type": "execute_result"
    }
   ],
   "source": [
    "arr"
   ]
  },
  {
   "cell_type": "code",
   "execution_count": 29,
   "id": "86e93ba5-61e7-4d65-b4d0-4f8f0d3ea816",
   "metadata": {},
   "outputs": [],
   "source": [
    "#6 >>>>> Write a function array_attributes that takes a numPy array as input and return its shape,size and data type."
   ]
  },
  {
   "cell_type": "code",
   "execution_count": 419,
   "id": "ffdb4f0a-fd1a-4011-b5ad-1e30ff7a7867",
   "metadata": {},
   "outputs": [],
   "source": [
    "def Arr_attributes(arr):\n",
    "    shape=arr.shape\n",
    "    size=arr.size\n",
    "    datatype=arr.dtype\n",
    "    return shape, size, datatype\n",
    "    \n",
    "    "
   ]
  },
  {
   "cell_type": "code",
   "execution_count": 420,
   "id": "e472df2e-c742-4103-89ee-f59887ad8dd4",
   "metadata": {},
   "outputs": [],
   "source": [
    "arr=np.asarray([1,2,3,4,5])"
   ]
  },
  {
   "cell_type": "code",
   "execution_count": 421,
   "id": "a1915b53-0a3d-460d-b618-7b94154d8ea9",
   "metadata": {},
   "outputs": [
    {
     "data": {
      "text/plain": [
       "((5,), 5, dtype('int64'))"
      ]
     },
     "execution_count": 421,
     "metadata": {},
     "output_type": "execute_result"
    }
   ],
   "source": [
    "Arr_attributes(arr)"
   ]
  },
  {
   "cell_type": "code",
   "execution_count": 422,
   "id": "f9e1d3b2-784d-49ba-9c87-7bbf079be876",
   "metadata": {},
   "outputs": [],
   "source": [
    "#7  >>> Create a function array_dimension that takes a numPy array as input and return its dimensionally.\n",
    "def Array_dimension(arr):\n",
    "    dimension=arr.ndim\n",
    "    return dimension"
   ]
  },
  {
   "cell_type": "code",
   "execution_count": 34,
   "id": "b6e07861-f123-4051-a5d2-ef108ab41be4",
   "metadata": {},
   "outputs": [],
   "source": [
    "arr=np.asarray([1,2,3])"
   ]
  },
  {
   "cell_type": "code",
   "execution_count": 423,
   "id": "95c37bc8-d634-4c39-98cc-25e1022abe9f",
   "metadata": {},
   "outputs": [
    {
     "data": {
      "text/plain": [
       "1"
      ]
     },
     "execution_count": 423,
     "metadata": {},
     "output_type": "execute_result"
    }
   ],
   "source": [
    "Array_dimension(arr)"
   ]
  },
  {
   "cell_type": "code",
   "execution_count": 36,
   "id": "cdb637c4-35e4-4fec-92c2-a4673d92f968",
   "metadata": {},
   "outputs": [],
   "source": [
    "#8 >>> Design a function item_size_info that takes a nimPy array as input and returns the items size and the total size in bytes"
   ]
  },
  {
   "cell_type": "code",
   "execution_count": 425,
   "id": "82f48884-d228-4ce1-b9a1-8ff8900fa477",
   "metadata": {},
   "outputs": [],
   "source": [
    "def Item_size_info(arr):\n",
    "    item_size=arr.byteswap()\n",
    "    total_size=arr.nbytes\n",
    "    return item_size,total_size"
   ]
  },
  {
   "cell_type": "code",
   "execution_count": 426,
   "id": "2f34127b-de97-440f-a642-f0f1e8e77dd7",
   "metadata": {},
   "outputs": [],
   "source": [
    "arr=np.asarray([1,3,4,5,6,7,8])"
   ]
  },
  {
   "cell_type": "code",
   "execution_count": 427,
   "id": "cb9cf152-835c-4314-a19b-ab5af3e9c519",
   "metadata": {},
   "outputs": [
    {
     "data": {
      "text/plain": [
       "(array([ 72057594037927936, 216172782113783808, 288230376151711744,\n",
       "        360287970189639680, 432345564227567616, 504403158265495552,\n",
       "        576460752303423488]),\n",
       " 56)"
      ]
     },
     "execution_count": 427,
     "metadata": {},
     "output_type": "execute_result"
    }
   ],
   "source": [
    "Item_size_info(arr)"
   ]
  },
  {
   "cell_type": "code",
   "execution_count": 428,
   "id": "3b553946-e0c2-45d1-bb1b-8e33b5784361",
   "metadata": {},
   "outputs": [],
   "source": [
    "#9 >>>> Create a function that array_strides that takes a numPy array as input and return the strides of the array.\n",
    "def Array_strides(arr):\n",
    "    strides=arr.strides\n",
    "    return strides"
   ]
  },
  {
   "cell_type": "code",
   "execution_count": 429,
   "id": "74f59176-4a66-42bf-baa8-921c46be1e93",
   "metadata": {},
   "outputs": [
    {
     "data": {
      "text/plain": [
       "(8,)"
      ]
     },
     "execution_count": 429,
     "metadata": {},
     "output_type": "execute_result"
    }
   ],
   "source": [
    "Array_strides(np.asarray([1,2,3,45]))"
   ]
  },
  {
   "cell_type": "code",
   "execution_count": 42,
   "id": "7611afb7-6fe6-4340-84e4-cfbf0eaf7354",
   "metadata": {},
   "outputs": [],
   "source": [
    "#10 >>>>> Design a function shape_stride_relationship that takes a numPy array as input and return the shape and strides of the array"
   ]
  },
  {
   "cell_type": "code",
   "execution_count": 431,
   "id": "6c195d50-c3c9-46bf-a8f4-10efad8863fe",
   "metadata": {},
   "outputs": [],
   "source": [
    "def Shape_stride_relationship(arr):\n",
    "    shape=arr.shape\n",
    "    strides=arr.strides\n",
    "    return shape,strides"
   ]
  },
  {
   "cell_type": "code",
   "execution_count": 432,
   "id": "26a3b527-4e31-4be8-815a-8e9f8d4f9caf",
   "metadata": {},
   "outputs": [
    {
     "data": {
      "text/plain": [
       "((4,), (8,))"
      ]
     },
     "execution_count": 432,
     "metadata": {},
     "output_type": "execute_result"
    }
   ],
   "source": [
    "Shape_stride_relationship(np.asarray([1,2,3,44]))"
   ]
  },
  {
   "cell_type": "code",
   "execution_count": 45,
   "id": "5ac424f4-81d0-4809-a1d4-2c7e8b5ac1b4",
   "metadata": {},
   "outputs": [],
   "source": [
    "#11. Create  a function 'create_ones_matrix' that takes an integer 'n' as input and return a NumPy array of zeros with 'n' elements."
   ]
  },
  {
   "cell_type": "code",
   "execution_count": 433,
   "id": "523e4991-da4a-4e89-bd8a-51ef0e27ae42",
   "metadata": {},
   "outputs": [],
   "source": [
    "def Create_ones_matrix(n):\n",
    "    matrix=np.zeros(n)\n",
    "    return matrix"
   ]
  },
  {
   "cell_type": "code",
   "execution_count": 434,
   "id": "747415ff-8f33-46ff-a1e5-08e0375ba690",
   "metadata": {},
   "outputs": [
    {
     "data": {
      "text/plain": [
       "array([0., 0., 0., 0., 0.])"
      ]
     },
     "execution_count": 434,
     "metadata": {},
     "output_type": "execute_result"
    }
   ],
   "source": [
    "Create_ones_matrix(5)"
   ]
  },
  {
   "cell_type": "code",
   "execution_count": 48,
   "id": "68751b01-e859-462f-a515-ed4975281e95",
   "metadata": {},
   "outputs": [],
   "source": [
    "#12 >>>>> Write a function 'create_ones_matrix' that takes integers 'rows' and 'cols' as input and generates a 2D NumPy array filled with ones of size \"rows*cols\"."
   ]
  },
  {
   "cell_type": "code",
   "execution_count": 436,
   "id": "997771a2-a935-4852-9b91-39218f3e71fd",
   "metadata": {},
   "outputs": [],
   "source": [
    "def Create_ones_matrix(n,m):\n",
    "    matrix=np.ones((n,m))\n",
    "    return matrix"
   ]
  },
  {
   "cell_type": "code",
   "execution_count": 437,
   "id": "3b868ddf-470f-4aac-8bc8-36a9b3c00eb6",
   "metadata": {},
   "outputs": [
    {
     "data": {
      "text/plain": [
       "array([[1., 1.],\n",
       "       [1., 1.]])"
      ]
     },
     "execution_count": 437,
     "metadata": {},
     "output_type": "execute_result"
    }
   ],
   "source": [
    "Create_ones_matrix(2,2)"
   ]
  },
  {
   "cell_type": "code",
   "execution_count": 51,
   "id": "10ba3c38-7777-4f15-a014-6a6f397647f2",
   "metadata": {},
   "outputs": [],
   "source": [
    "#13 >>>> Write a function 'generate_range_array' that takes three integers start,stops,and steps as arguments and creates a NumPy array with a range strating from 'start',ending or stop(exclusive),and with the specified 'steps'."
   ]
  },
  {
   "cell_type": "code",
   "execution_count": 438,
   "id": "908d5baa-b3d8-4527-9b22-8ccda6af36b7",
   "metadata": {},
   "outputs": [],
   "source": [
    "def Generate_range_array(start,stop,step):\n",
    "    number=np.arange(start,stop,step)\n",
    "    return number"
   ]
  },
  {
   "cell_type": "code",
   "execution_count": 439,
   "id": "87cb80dd-9c16-4293-bd3f-5ad526fd691c",
   "metadata": {},
   "outputs": [
    {
     "data": {
      "text/plain": [
       "array([1, 3])"
      ]
     },
     "execution_count": 439,
     "metadata": {},
     "output_type": "execute_result"
    }
   ],
   "source": [
    "Generate_range_array(1,5,2)"
   ]
  },
  {
   "cell_type": "code",
   "execution_count": 54,
   "id": "878b364e-9da9-4881-b095-abce08ff765f",
   "metadata": {},
   "outputs": [],
   "source": [
    "#14 >>>> Design a function 'generate_linear_space' that takes two float 'start','stop' and an integer 'num' as arguments and generates a Numpy array wiyh num equally spaced vlaues between 'start'and 'stop'(inclusive)."
   ]
  },
  {
   "cell_type": "code",
   "execution_count": 440,
   "id": "3cb72911-119d-4aca-b519-993cdb0c1c66",
   "metadata": {},
   "outputs": [],
   "source": [
    "def Generate_linear_space(start,stop):\n",
    "    matrix=np.arange(start,stop)\n",
    "    return matrix"
   ]
  },
  {
   "cell_type": "code",
   "execution_count": 441,
   "id": "32293f3a-ed35-40c3-8652-93ff0c82d64f",
   "metadata": {},
   "outputs": [
    {
     "data": {
      "text/plain": [
       "array([1, 2, 3, 4, 5, 6, 7, 8, 9])"
      ]
     },
     "execution_count": 441,
     "metadata": {},
     "output_type": "execute_result"
    }
   ],
   "source": [
    "Generate_linear_space(1,10)"
   ]
  },
  {
   "cell_type": "code",
   "execution_count": 57,
   "id": "3f0a9dc4-1844-4638-83f8-109414616e55",
   "metadata": {},
   "outputs": [],
   "source": [
    "#15 >>>> Create a function \"create_identity_matrix\" that takes an integer 'n' as input and generates a square identity matrix of size 'n*n\" using numpy.eye"
   ]
  },
  {
   "cell_type": "code",
   "execution_count": 442,
   "id": "4ca97fc4-ab9e-40b8-958e-b00e7610b406",
   "metadata": {},
   "outputs": [],
   "source": [
    "def Create_identity_matrix(n,m):\n",
    "    matrix=np.eye(n,m)\n",
    "    return matrix"
   ]
  },
  {
   "cell_type": "code",
   "execution_count": 443,
   "id": "50b6297c-1e77-4c08-9391-a94fe2c33d16",
   "metadata": {},
   "outputs": [
    {
     "data": {
      "text/plain": [
       "array([[1., 0., 0.],\n",
       "       [0., 1., 0.],\n",
       "       [0., 0., 1.]])"
      ]
     },
     "execution_count": 443,
     "metadata": {},
     "output_type": "execute_result"
    }
   ],
   "source": [
    "Create_identity_matrix(3,3)"
   ]
  },
  {
   "cell_type": "code",
   "execution_count": 60,
   "id": "fa9a0ec3-edd1-4aab-b1a6-e125b83e6bf1",
   "metadata": {},
   "outputs": [],
   "source": [
    "#16 >>> Write a function that takes a python list and convert it into a NumPy array."
   ]
  },
  {
   "cell_type": "code",
   "execution_count": 444,
   "id": "707c0953-88ac-4129-b323-9e0ec87f08a8",
   "metadata": {},
   "outputs": [],
   "source": [
    "def Covert_list(list1):\n",
    "    arr=np.asarray(list1)\n",
    "    return arr"
   ]
  },
  {
   "cell_type": "code",
   "execution_count": 446,
   "id": "5ee8171e-4814-4393-8713-13acc2233654",
   "metadata": {},
   "outputs": [
    {
     "data": {
      "text/plain": [
       "array([1, 2, 3, 4, 5])"
      ]
     },
     "execution_count": 446,
     "metadata": {},
     "output_type": "execute_result"
    }
   ],
   "source": [
    "Covert_list([1,2,3,4,5])"
   ]
  },
  {
   "cell_type": "code",
   "execution_count": 63,
   "id": "c537510a-24c0-4eb7-aaf1-a7d58f0f5176",
   "metadata": {},
   "outputs": [
    {
     "data": {
      "text/plain": [
       "dtype('int64')"
      ]
     },
     "execution_count": 63,
     "metadata": {},
     "output_type": "execute_result"
    }
   ],
   "source": [
    "arr.dtype"
   ]
  },
  {
   "cell_type": "code",
   "execution_count": 64,
   "id": "76bbd5a4-22e8-47c6-a76c-8199749f60ab",
   "metadata": {},
   "outputs": [],
   "source": [
    "#17 >>>>> Create a NumPy array and demonstrate the used of 'numpy.view' to create a new array object with the same data.\n",
    "list4=[11,22,33,45]\n",
    "arr=np.asarray(list4)"
   ]
  },
  {
   "cell_type": "code",
   "execution_count": 65,
   "id": "1235cae6-d58d-4164-b9ce-b7f1700a5571",
   "metadata": {},
   "outputs": [
    {
     "data": {
      "text/plain": [
       "array([11, 22, 33, 45])"
      ]
     },
     "execution_count": 65,
     "metadata": {},
     "output_type": "execute_result"
    }
   ],
   "source": [
    "arr.view()"
   ]
  },
  {
   "cell_type": "code",
   "execution_count": 66,
   "id": "335d3a16-db2b-4550-b507-2897bae32aff",
   "metadata": {},
   "outputs": [],
   "source": [
    "#18 >>> Write a function that takes two NumPy arrays and concentenates them along a specified axis.\n",
    "arr1=np.asarray([[2,4],[6,8]])"
   ]
  },
  {
   "cell_type": "code",
   "execution_count": 67,
   "id": "d1025783-355f-468b-bf54-b3987800c956",
   "metadata": {},
   "outputs": [],
   "source": [
    "arr2=np.asarray([[3,4],[4,8]])"
   ]
  },
  {
   "cell_type": "code",
   "execution_count": 68,
   "id": "ba52cc6e-daeb-45df-a223-2358145f07a2",
   "metadata": {},
   "outputs": [
    {
     "data": {
      "text/plain": [
       "array([[2, 4],\n",
       "       [6, 8],\n",
       "       [3, 4],\n",
       "       [4, 8]])"
      ]
     },
     "execution_count": 68,
     "metadata": {},
     "output_type": "execute_result"
    }
   ],
   "source": [
    "np.concatenate((arr1,arr2),axis=0)"
   ]
  },
  {
   "cell_type": "code",
   "execution_count": 447,
   "id": "60747203-7cc3-4c9d-a96d-3945f3e04a14",
   "metadata": {},
   "outputs": [],
   "source": [
    "#18 >>> Write a function that takes two NumPy arrays and concentenates them along a specified axis.\n",
    "def Conc(arr1,arr2):\n",
    "    conc1=np.concatenate((arr1,arr2),axis=0)\n",
    "    return conc1\n",
    "    \n",
    "    "
   ]
  },
  {
   "cell_type": "code",
   "execution_count": 448,
   "id": "a8c2b20d-992c-46a3-aaa3-ad3393881a4b",
   "metadata": {},
   "outputs": [
    {
     "data": {
      "text/plain": [
       "array([[2, 4],\n",
       "       [6, 8],\n",
       "       [3, 4],\n",
       "       [4, 8]])"
      ]
     },
     "execution_count": 448,
     "metadata": {},
     "output_type": "execute_result"
    }
   ],
   "source": [
    "Conc(np.asarray([[2,4],[6,8]]),np.asarray([[3,4],[4,8]]))"
   ]
  },
  {
   "cell_type": "code",
   "execution_count": 71,
   "id": "dc72fee2-46a3-4c84-a739-203b7ae120a0",
   "metadata": {},
   "outputs": [],
   "source": [
    "#19 >>>> Create two numpy array with different shapes and concatenate them horizontally using 'numpy.concatenate'."
   ]
  },
  {
   "cell_type": "code",
   "execution_count": 72,
   "id": "3730b04b-01e4-4c4e-87b6-ef0f30a906e2",
   "metadata": {},
   "outputs": [],
   "source": [
    "arr1=np.ones((2,2))"
   ]
  },
  {
   "cell_type": "code",
   "execution_count": 73,
   "id": "07741921-5451-4c62-8e46-5d86e676f5d8",
   "metadata": {},
   "outputs": [
    {
     "data": {
      "text/plain": [
       "array([[1., 1.],\n",
       "       [1., 1.]])"
      ]
     },
     "execution_count": 73,
     "metadata": {},
     "output_type": "execute_result"
    }
   ],
   "source": [
    "arr1"
   ]
  },
  {
   "cell_type": "code",
   "execution_count": 74,
   "id": "b74d7fd3-6fb3-4d38-b485-cbe72d0493b0",
   "metadata": {},
   "outputs": [],
   "source": [
    "arr2=np.zeros((3,3))"
   ]
  },
  {
   "cell_type": "code",
   "execution_count": 75,
   "id": "9295ab43-cffd-4565-90fe-670a1f4585e4",
   "metadata": {},
   "outputs": [
    {
     "data": {
      "text/plain": [
       "array([[0., 0., 0.],\n",
       "       [0., 0., 0.],\n",
       "       [0., 0., 0.]])"
      ]
     },
     "execution_count": 75,
     "metadata": {},
     "output_type": "execute_result"
    }
   ],
   "source": [
    "arr2"
   ]
  },
  {
   "cell_type": "code",
   "execution_count": 76,
   "id": "aa4682b9-fdfa-4bd2-a71e-4b0fd3333c5f",
   "metadata": {},
   "outputs": [
    {
     "data": {
      "text/plain": [
       "array([1., 1., 1., 1., 0., 0., 0., 0., 0., 0., 0., 0., 0.])"
      ]
     },
     "execution_count": 76,
     "metadata": {},
     "output_type": "execute_result"
    }
   ],
   "source": [
    "np.concatenate((arr1,arr2),axis=None)"
   ]
  },
  {
   "cell_type": "code",
   "execution_count": 77,
   "id": "56111677-d8d1-4224-99d7-e3e74da819e2",
   "metadata": {},
   "outputs": [],
   "source": [
    "#20 >>>>> Write a function that vertically stacks muntiple numpy arrays given in a list.\n",
    "a=np.zeros((2,3))\n",
    "b=np.ones((2,3))\n"
   ]
  },
  {
   "cell_type": "code",
   "execution_count": 78,
   "id": "769c8ecc-a10e-4ee5-abc7-488fb1535653",
   "metadata": {},
   "outputs": [
    {
     "data": {
      "text/plain": [
       "array([[0., 0., 0.],\n",
       "       [0., 0., 0.],\n",
       "       [1., 1., 1.],\n",
       "       [1., 1., 1.]])"
      ]
     },
     "execution_count": 78,
     "metadata": {},
     "output_type": "execute_result"
    }
   ],
   "source": [
    "np.concatenate((a,b),axis=0)"
   ]
  },
  {
   "cell_type": "code",
   "execution_count": 79,
   "id": "db0c80d0-ecdd-4213-8f49-74fd8f562704",
   "metadata": {},
   "outputs": [],
   "source": [
    "#21 >>>> Write a Python function using NumPy to create an array of integers within a specified range (inclusive) with a given step size."
   ]
  },
  {
   "cell_type": "code",
   "execution_count": 449,
   "id": "720c4deb-96af-4fe5-a1df-86ce28cd04b8",
   "metadata": {},
   "outputs": [],
   "source": [
    "def Create_arr(a,b,c):\n",
    "    arr1=np.arange(a,b,c)\n",
    "    return arr1"
   ]
  },
  {
   "cell_type": "code",
   "execution_count": 450,
   "id": "dec1465c-d500-4a01-ae6f-b5e21003cd50",
   "metadata": {},
   "outputs": [
    {
     "data": {
      "text/plain": [
       "array([ 1,  4,  7, 10, 13, 16, 19])"
      ]
     },
     "execution_count": 450,
     "metadata": {},
     "output_type": "execute_result"
    }
   ],
   "source": [
    "Create_arr(1,20,3)"
   ]
  },
  {
   "cell_type": "code",
   "execution_count": 82,
   "id": "05b067b7-c210-46b7-ad66-9fa1b18f562b",
   "metadata": {},
   "outputs": [],
   "source": [
    "#22   >>>>>  Write a Python function using NumPy to generate an array of 10 equally spaced values between 0 and 1 (inclusive)."
   ]
  },
  {
   "cell_type": "code",
   "execution_count": 451,
   "id": "b64cd0c0-1efa-4934-a455-d98ed57ec7c3",
   "metadata": {},
   "outputs": [],
   "source": [
    "def Esf():\n",
    "    number=np.linspace(0,1,10)\n",
    "    return number"
   ]
  },
  {
   "cell_type": "code",
   "execution_count": 452,
   "id": "d600d492-718a-4a49-8e00-6fa97a613354",
   "metadata": {},
   "outputs": [
    {
     "data": {
      "text/plain": [
       "array([0.        , 0.11111111, 0.22222222, 0.33333333, 0.44444444,\n",
       "       0.55555556, 0.66666667, 0.77777778, 0.88888889, 1.        ])"
      ]
     },
     "execution_count": 452,
     "metadata": {},
     "output_type": "execute_result"
    }
   ],
   "source": [
    "Esf()"
   ]
  },
  {
   "cell_type": "code",
   "execution_count": 85,
   "id": "77b8ab1c-db22-4774-a2ac-30af5e5a3e53",
   "metadata": {},
   "outputs": [],
   "source": [
    "#23 >>>>   Write a Python function using NumPy to create an array of 5 logarithmically spaced values between 1 and 1000 (inclusive)."
   ]
  },
  {
   "cell_type": "code",
   "execution_count": 453,
   "id": "14c53fc2-61b8-4abb-acb2-d8877b0ad003",
   "metadata": {},
   "outputs": [],
   "source": [
    "def Log():\n",
    "    numbers=np.logspace(1,1000,5)\n",
    "    return numbers"
   ]
  },
  {
   "cell_type": "code",
   "execution_count": 454,
   "id": "0ad2c14f-7634-4380-a432-111fd4cd47e2",
   "metadata": {},
   "outputs": [
    {
     "name": "stderr",
     "output_type": "stream",
     "text": [
      "/opt/conda/lib/python3.10/site-packages/numpy/core/function_base.py:277: RuntimeWarning: overflow encountered in power\n",
      "  return _nx.power(base, y)\n"
     ]
    },
    {
     "data": {
      "text/plain": [
       "array([1.00000000e+001, 5.62341325e+250,             inf,             inf,\n",
       "                   inf])"
      ]
     },
     "execution_count": 454,
     "metadata": {},
     "output_type": "execute_result"
    }
   ],
   "source": [
    "Log()"
   ]
  },
  {
   "cell_type": "code",
   "execution_count": 88,
   "id": "e850d075-b74c-4d09-af4d-521784dada26",
   "metadata": {},
   "outputs": [],
   "source": [
    "#24 >>>>>  Create a Pandas DataFrame using a NumPy array that contains 5 rows and 3 columns, where the values are random integers between 1 and 100."
   ]
  },
  {
   "cell_type": "code",
   "execution_count": 89,
   "id": "4bf4540a-8f15-40a9-bb49-816209adf834",
   "metadata": {},
   "outputs": [
    {
     "data": {
      "text/plain": [
       "array([[40, 50, 32],\n",
       "       [22, 79, 32],\n",
       "       [68, 87, 71],\n",
       "       [91, 68, 50],\n",
       "       [62, 61, 62]])"
      ]
     },
     "execution_count": 89,
     "metadata": {},
     "output_type": "execute_result"
    }
   ],
   "source": [
    "np.random.randint(1,100,size=(5,3))"
   ]
  },
  {
   "cell_type": "code",
   "execution_count": 90,
   "id": "2d61cec5-80cf-4be5-82bc-e623a3d48193",
   "metadata": {},
   "outputs": [],
   "source": [
    "#25 >>>>> Write a function that takes a Pandas DataFrame and replaces all negative values in a specific column with zeros. Use NumPy operations within the Pandas DataFrame."
   ]
  },
  {
   "cell_type": "code",
   "execution_count": 455,
   "id": "815b860d-9a16-41d8-be14-1b0e3ad90b6a",
   "metadata": {},
   "outputs": [],
   "source": [
    "import pandas as pd\n",
    "def Replace_negatives_with_zeros(df, column_name):\n",
    "    \n",
    "    df[column_name] = np.where(df[column_name] < 0, 0, df[column_name])\n",
    "    return df"
   ]
  },
  {
   "cell_type": "code",
   "execution_count": 456,
   "id": "21882fa7-a16a-4b39-a1c5-224fc80308ca",
   "metadata": {},
   "outputs": [],
   "source": [
    "data = {'A': [1, -2, 3, -4, 5], 'B': [10, -20, 30, -40, 50]}\n",
    "df = pd.DataFrame(data)"
   ]
  },
  {
   "cell_type": "code",
   "execution_count": 458,
   "id": "d8c00242-9d06-4847-9a65-940c1ddc70b1",
   "metadata": {},
   "outputs": [
    {
     "data": {
      "text/html": [
       "<div>\n",
       "<style scoped>\n",
       "    .dataframe tbody tr th:only-of-type {\n",
       "        vertical-align: middle;\n",
       "    }\n",
       "\n",
       "    .dataframe tbody tr th {\n",
       "        vertical-align: top;\n",
       "    }\n",
       "\n",
       "    .dataframe thead th {\n",
       "        text-align: right;\n",
       "    }\n",
       "</style>\n",
       "<table border=\"1\" class=\"dataframe\">\n",
       "  <thead>\n",
       "    <tr style=\"text-align: right;\">\n",
       "      <th></th>\n",
       "      <th>A</th>\n",
       "      <th>B</th>\n",
       "    </tr>\n",
       "  </thead>\n",
       "  <tbody>\n",
       "    <tr>\n",
       "      <th>0</th>\n",
       "      <td>1</td>\n",
       "      <td>10</td>\n",
       "    </tr>\n",
       "    <tr>\n",
       "      <th>1</th>\n",
       "      <td>-2</td>\n",
       "      <td>0</td>\n",
       "    </tr>\n",
       "    <tr>\n",
       "      <th>2</th>\n",
       "      <td>3</td>\n",
       "      <td>30</td>\n",
       "    </tr>\n",
       "    <tr>\n",
       "      <th>3</th>\n",
       "      <td>-4</td>\n",
       "      <td>0</td>\n",
       "    </tr>\n",
       "    <tr>\n",
       "      <th>4</th>\n",
       "      <td>5</td>\n",
       "      <td>50</td>\n",
       "    </tr>\n",
       "  </tbody>\n",
       "</table>\n",
       "</div>"
      ],
      "text/plain": [
       "   A   B\n",
       "0  1  10\n",
       "1 -2   0\n",
       "2  3  30\n",
       "3 -4   0\n",
       "4  5  50"
      ]
     },
     "execution_count": 458,
     "metadata": {},
     "output_type": "execute_result"
    }
   ],
   "source": [
    "Replace_negatives_with_zeros(df, \"A\"and\"B\")"
   ]
  },
  {
   "cell_type": "code",
   "execution_count": 94,
   "id": "8a749243-8946-4202-9e57-2ba00a9835b2",
   "metadata": {},
   "outputs": [],
   "source": [
    "#26 >>>>>>Access the 3rd element from the given NumPy array."
   ]
  },
  {
   "cell_type": "code",
   "execution_count": 95,
   "id": "beb0ddeb-fbe4-4c4e-a2fe-8a870e10792e",
   "metadata": {},
   "outputs": [],
   "source": [
    "arr = np.array([10, 20, 30, 40, 50])"
   ]
  },
  {
   "cell_type": "code",
   "execution_count": 96,
   "id": "42c853bb-ae2f-449a-b081-57b8bdff1198",
   "metadata": {},
   "outputs": [
    {
     "data": {
      "text/plain": [
       "30"
      ]
     },
     "execution_count": 96,
     "metadata": {},
     "output_type": "execute_result"
    }
   ],
   "source": [
    "arr[2]"
   ]
  },
  {
   "cell_type": "code",
   "execution_count": 97,
   "id": "c0bde9dc-0b7a-4717-a42a-6877adab355d",
   "metadata": {},
   "outputs": [],
   "source": [
    "#27 >>>>>  Retrieve the element at index (1, 2) from the 2D NumPy array.\n",
    "arr_2d = np.array([[1, 2, 3],\n",
    "                   [4, 5, 6],\n",
    "                   [7, 8, 9]])\n"
   ]
  },
  {
   "cell_type": "code",
   "execution_count": 98,
   "id": "8eff95d6-eb99-4409-bc49-c8e89041f207",
   "metadata": {},
   "outputs": [
    {
     "data": {
      "text/plain": [
       "array([[1, 2, 3],\n",
       "       [4, 5, 6],\n",
       "       [7, 8, 9]])"
      ]
     },
     "execution_count": 98,
     "metadata": {},
     "output_type": "execute_result"
    }
   ],
   "source": [
    "arr_2d"
   ]
  },
  {
   "cell_type": "code",
   "execution_count": 99,
   "id": "4c3eb25a-54c1-4eeb-8f7e-57a07799c5b4",
   "metadata": {},
   "outputs": [
    {
     "data": {
      "text/plain": [
       "6"
      ]
     },
     "execution_count": 99,
     "metadata": {},
     "output_type": "execute_result"
    }
   ],
   "source": [
    "arr_2d[1,2]"
   ]
  },
  {
   "cell_type": "code",
   "execution_count": 100,
   "id": "7e8602bb-751f-4f54-aa42-01a98df7271d",
   "metadata": {},
   "outputs": [],
   "source": [
    "#28 >>>>>. Using boolean indexing, extract elements greater than 5 from the given NumPy array.\n",
    "arr = np.array([3, 8, 2, 10, 5, 7])\n"
   ]
  },
  {
   "cell_type": "code",
   "execution_count": 101,
   "id": "64f19cf2-e7be-4379-9cb3-fd3408d19743",
   "metadata": {},
   "outputs": [
    {
     "data": {
      "text/plain": [
       "array([ 3,  8,  2, 10,  5,  7])"
      ]
     },
     "execution_count": 101,
     "metadata": {},
     "output_type": "execute_result"
    }
   ],
   "source": [
    "arr"
   ]
  },
  {
   "cell_type": "code",
   "execution_count": 102,
   "id": "8a3496d1-391a-49cf-a8ea-3efdf2078fd5",
   "metadata": {},
   "outputs": [
    {
     "data": {
      "text/plain": [
       "array([ 8, 10,  7])"
      ]
     },
     "execution_count": 102,
     "metadata": {},
     "output_type": "execute_result"
    }
   ],
   "source": [
    "arr[arr>5]"
   ]
  },
  {
   "cell_type": "code",
   "execution_count": 103,
   "id": "8da0630d-7783-4371-97cc-d52a0b2d443f",
   "metadata": {},
   "outputs": [],
   "source": [
    "#29 >>>>   Perform basic slicing to extract elements from index 2 to 5 (inclusive) from the given NumPy array.\n",
    "arr = np.array([1, 2, 3, 4, 5, 6, 7, 8, 9])\n"
   ]
  },
  {
   "cell_type": "code",
   "execution_count": 104,
   "id": "d448e019-dea9-4ae0-9dfa-78751c862ad5",
   "metadata": {},
   "outputs": [
    {
     "data": {
      "text/plain": [
       "array([1, 2, 3, 4, 5, 6, 7, 8, 9])"
      ]
     },
     "execution_count": 104,
     "metadata": {},
     "output_type": "execute_result"
    }
   ],
   "source": [
    "arr"
   ]
  },
  {
   "cell_type": "code",
   "execution_count": 105,
   "id": "15c343a0-2a74-4161-a2e5-85a273f626c5",
   "metadata": {},
   "outputs": [
    {
     "data": {
      "text/plain": [
       "array([3, 4, 5])"
      ]
     },
     "execution_count": 105,
     "metadata": {},
     "output_type": "execute_result"
    }
   ],
   "source": [
    "arr[2:5]"
   ]
  },
  {
   "cell_type": "code",
   "execution_count": 106,
   "id": "c7882574-d2a6-4f3a-9c6b-0e540a313dfd",
   "metadata": {},
   "outputs": [],
   "source": [
    "#30 >>>>>>  Slice the 2D NumPy array to extract the sub-array `[[2, 3], [5, 6]]` from the given array.\n",
    "arr_2d = np.array([[1, 2, 3],\n",
    "                   [4, 5, 6],\n",
    "                   [7, 8, 9]])"
   ]
  },
  {
   "cell_type": "code",
   "execution_count": 107,
   "id": "1f58ca26-5725-41e2-a585-fe5fde927d6a",
   "metadata": {},
   "outputs": [
    {
     "data": {
      "text/plain": [
       "array([[1, 2, 3],\n",
       "       [4, 5, 6],\n",
       "       [7, 8, 9]])"
      ]
     },
     "execution_count": 107,
     "metadata": {},
     "output_type": "execute_result"
    }
   ],
   "source": [
    "arr_2d"
   ]
  },
  {
   "cell_type": "code",
   "execution_count": 108,
   "id": "825c25eb-69f3-4c42-bb4b-cbc117a98805",
   "metadata": {},
   "outputs": [
    {
     "data": {
      "text/plain": [
       "array([[2, 3],\n",
       "       [5, 6]])"
      ]
     },
     "execution_count": 108,
     "metadata": {},
     "output_type": "execute_result"
    }
   ],
   "source": [
    "arr_2d[0:2,1:3]"
   ]
  },
  {
   "cell_type": "code",
   "execution_count": 109,
   "id": "490f88f0-e79d-44ff-b946-c054750d6a10",
   "metadata": {},
   "outputs": [],
   "source": [
    "#31 >>>  Write a NumPy function to extract elements in specific order from a given 2D array based on indices provided in another array."
   ]
  },
  {
   "cell_type": "code",
   "execution_count": 110,
   "id": "6ee48bff-5c56-408d-9e2a-919b06109d25",
   "metadata": {},
   "outputs": [
    {
     "name": "stdout",
     "output_type": "stream",
     "text": [
      "Extracted elements: [3 4 8]\n"
     ]
    }
   ],
   "source": [
    "def extract_elements_by_indices(arr_2d, indices):\n",
    "    \"\"\"\n",
    "    Extracts elements from a 2D array based on given indices.\n",
    "\n",
    "    Parameters:\n",
    "    arr_2d (numpy.ndarray): The input 2D array.\n",
    "    indices (list or numpy.ndarray): An array of tuples where each tuple contains the row and column index.\n",
    "\n",
    "    Returns:\n",
    "    numpy.ndarray: A 1D array of extracted elements.\n",
    "    \"\"\"\n",
    "    # Extract rows and columns separately from the indices\n",
    "    rows, cols = zip(*indices)\n",
    "    # Use advanced indexing to extract the elements\n",
    "    return arr_2d[rows, cols]\n",
    "\n",
    "# Example usage\n",
    "arr_2d = np.array([[1, 2, 3],\n",
    "                   [4, 5, 6],\n",
    "                   [7, 8, 9]])\n",
    "\n",
    "indices = [(0, 2), (1, 0), (2, 1)]\n",
    "\n",
    "extracted_elements = extract_elements_by_indices(arr_2d, indices)\n",
    "print(f\"Extracted elements: {extracted_elements}\")\n"
   ]
  },
  {
   "cell_type": "code",
   "execution_count": 111,
   "id": "e5243ca3-24b2-49e8-9945-a7f9a212b809",
   "metadata": {},
   "outputs": [],
   "source": [
    "#32 >>>>>  Create a NumPy function that filters elements greater than a threshold from a given 1D array using boolean indexing."
   ]
  },
  {
   "cell_type": "code",
   "execution_count": 112,
   "id": "0e87d6af-7f5d-4d96-bb23-5a923870d2d4",
   "metadata": {},
   "outputs": [],
   "source": [
    "arr=np.random.randint(1,8,5)\n",
    "def filter(arr):\n",
    "    arr1=arr[arr>2]\n",
    "    return arr1"
   ]
  },
  {
   "cell_type": "code",
   "execution_count": 113,
   "id": "1f567e36-0644-478c-811f-95006c516b88",
   "metadata": {},
   "outputs": [
    {
     "data": {
      "text/plain": [
       "array([5, 6, 5, 5])"
      ]
     },
     "execution_count": 113,
     "metadata": {},
     "output_type": "execute_result"
    }
   ],
   "source": [
    "filter(arr)"
   ]
  },
  {
   "cell_type": "code",
   "execution_count": 114,
   "id": "c0fd2d5a-5ec6-41b1-a92f-059d912fa0e5",
   "metadata": {},
   "outputs": [],
   "source": [
    "#33 >>>>> Develop a NumPy function that extracts specific elements from a 3D array using indices provided in three separate arrays for each dimension. "
   ]
  },
  {
   "cell_type": "code",
   "execution_count": 115,
   "id": "93f1e504-cd9a-4891-8de3-4e290935361f",
   "metadata": {},
   "outputs": [],
   "source": [
    "arr1 = np.array([\n",
    "    [\n",
    "        [1, 2, 3, 4],\n",
    "        [5, 6, 7, 8],\n",
    "        [9, 10, 11, 12]\n",
    "    ],\n",
    "    [\n",
    "        [13, 14, 15, 16],\n",
    "        [17, 18, 19, 20],\n",
    "        [21, 22, 23, 24]\n",
    "    ]\n",
    "])\n",
    "def extract_element(arr1,x,y,z):\n",
    "    if not (len(x) == len(y) == len(z)):\n",
    "        raise ValueError(\"All index arrays must have the same length\")\n",
    "    return arr1[x,y,z]"
   ]
  },
  {
   "cell_type": "code",
   "execution_count": 116,
   "id": "8fa6e947-686b-4485-bdcc-5e89e426736e",
   "metadata": {},
   "outputs": [
    {
     "data": {
      "text/plain": [
       "array([ 6, 12, 18])"
      ]
     },
     "execution_count": 116,
     "metadata": {},
     "output_type": "execute_result"
    }
   ],
   "source": [
    "extract_element(arr1,[0,0,1],[1,2,1],[1,3,1])"
   ]
  },
  {
   "cell_type": "code",
   "execution_count": 117,
   "id": "74582541-9264-4c6a-9f5a-4641574a2d8e",
   "metadata": {},
   "outputs": [],
   "source": [
    "#34 >>>>>Write a NumPy function that returns elements from an array where both two conditions are satisfied using boolean indexing."
   ]
  },
  {
   "cell_type": "code",
   "execution_count": 118,
   "id": "3afb9dd8-bdfd-4f54-85c3-01784c051069",
   "metadata": {},
   "outputs": [
    {
     "name": "stdout",
     "output_type": "stream",
     "text": [
      "Extracted elements: [ 8 10]\n"
     ]
    }
   ],
   "source": [
    "def extract_elements_with_conditions(arr, condition1, condition2):\n",
    "    \"\"\"\n",
    "    Extracts elements from an array where both conditions are satisfied.\n",
    "\n",
    "    Parameters:\n",
    "    arr (numpy.ndarray): The input array.\n",
    "    condition1 (callable): A function that takes an element and returns a boolean for the first condition.\n",
    "    condition2 (callable): A function that takes an element and returns a boolean for the second condition.\n",
    "\n",
    "    Returns:\n",
    "    numpy.ndarray: An array of elements that satisfy both conditions.\n",
    "    \"\"\"\n",
    "    # Apply the conditions to the array\n",
    "    boolean_mask = np.vectorize(condition1)(arr) & np.vectorize(condition2)(arr)\n",
    "    \n",
    "    # Use the boolean mask to extract elements\n",
    "    return arr[boolean_mask]\n",
    "\n",
    "# Example usage\n",
    "arr = np.array([3, 8, 2, 10, 5, 7])\n",
    "\n",
    "# Define conditions\n",
    "condition1 = lambda x: x > 5  # Elements greater than 5\n",
    "condition2 = lambda x: x % 2 == 0  # Elements that are even\n",
    "\n",
    "extracted_elements = extract_elements_with_conditions(arr, condition1, condition2)\n",
    "print(\"Extracted elements:\", extracted_elements)\n"
   ]
  },
  {
   "cell_type": "code",
   "execution_count": 119,
   "id": "a6c8e576-cf34-4efe-9135-92f4fdf7f919",
   "metadata": {},
   "outputs": [],
   "source": [
    "#35 >>>>> . Create a NumPy function that extracts elements from a 2D array using row and column indices provided in separate arrays.\n"
   ]
  },
  {
   "cell_type": "code",
   "execution_count": 120,
   "id": "84074c59-c19d-4633-8cbc-ecb1310f9ac2",
   "metadata": {},
   "outputs": [
    {
     "name": "stdout",
     "output_type": "stream",
     "text": [
      "Extracted elements: [3 4 8]\n"
     ]
    }
   ],
   "source": [
    "import numpy as np\n",
    "\n",
    "def extract_elements_2d(arr_2d, row_indices, col_indices):\n",
    "    \"\"\"\n",
    "    Extracts elements from a 2D array based on given row and column indices.\n",
    "\n",
    "    Parameters:\n",
    "    arr_2d (numpy.ndarray): The input 2D array.\n",
    "    row_indices (list or numpy.ndarray): Indices for the rows.\n",
    "    col_indices (list or numpy.ndarray): Indices for the columns.\n",
    "\n",
    "    Returns:\n",
    "    numpy.ndarray: An array of extracted elements.\n",
    "    \"\"\"\n",
    "    if len(row_indices) != len(col_indices):\n",
    "        raise ValueError(\"Row indices and column indices must have the same length\")\n",
    "\n",
    "    # Use advanced indexing to extract the elements\n",
    "    return arr_2d[row_indices, col_indices]\n",
    "\n",
    "# Example usage\n",
    "arr_2d = np.array([\n",
    "    [1, 2, 3],\n",
    "    [4, 5, 6],\n",
    "    [7, 8, 9]\n",
    "])\n",
    "\n",
    "row_indices = [0, 1, 2]\n",
    "col_indices = [2, 0, 1]\n",
    "\n",
    "extracted_elements = extract_elements_2d(arr_2d, row_indices, col_indices)\n",
    "print(\"Extracted elements:\", extracted_elements)\n"
   ]
  },
  {
   "cell_type": "code",
   "execution_count": 121,
   "id": "a7acea9c-b5b7-43fe-94e0-19a8ec82b60f",
   "metadata": {},
   "outputs": [],
   "source": [
    "#36 >>>>>  Given an array arr of shape (3, 3), add a scalar value of 5 to each element using NumPy broadcasting.\n"
   ]
  },
  {
   "cell_type": "code",
   "execution_count": 122,
   "id": "624e870e-3da1-4ea7-bc4f-a3a6cf587fc3",
   "metadata": {},
   "outputs": [],
   "source": [
    "arr=np.zeros((3,3))"
   ]
  },
  {
   "cell_type": "code",
   "execution_count": 123,
   "id": "3a1e6998-fb16-4feb-82d1-a80d39fafe0e",
   "metadata": {},
   "outputs": [
    {
     "data": {
      "text/plain": [
       "array([[0., 0., 0.],\n",
       "       [0., 0., 0.],\n",
       "       [0., 0., 0.]])"
      ]
     },
     "execution_count": 123,
     "metadata": {},
     "output_type": "execute_result"
    }
   ],
   "source": [
    "arr"
   ]
  },
  {
   "cell_type": "code",
   "execution_count": 124,
   "id": "80138145-6b0a-49ac-befb-d980d6c34625",
   "metadata": {},
   "outputs": [],
   "source": [
    "arr_new=arr+5"
   ]
  },
  {
   "cell_type": "code",
   "execution_count": 125,
   "id": "f8c82408-1a25-4766-961c-632f73fd26f4",
   "metadata": {},
   "outputs": [
    {
     "data": {
      "text/plain": [
       "array([[5., 5., 5.],\n",
       "       [5., 5., 5.],\n",
       "       [5., 5., 5.]])"
      ]
     },
     "execution_count": 125,
     "metadata": {},
     "output_type": "execute_result"
    }
   ],
   "source": [
    "arr_new"
   ]
  },
  {
   "cell_type": "code",
   "execution_count": 126,
   "id": "3245ae4e-4efd-41c8-8104-1d76fe9ee2a6",
   "metadata": {},
   "outputs": [],
   "source": [
    "#37 >>>>>>Consider two arrays arr1 of shape (1, 3) and arr2 of shape (3, 4). Multiply each row of arr2 by the corresponding element in arr1 using NumPy broadcasting."
   ]
  },
  {
   "cell_type": "code",
   "execution_count": 127,
   "id": "abd9705a-9faf-4627-895d-38155f46e6b2",
   "metadata": {},
   "outputs": [],
   "source": [
    "arr1=np.array([2,3,4])"
   ]
  },
  {
   "cell_type": "code",
   "execution_count": 128,
   "id": "ac973593-2183-4fc1-9aa7-79a177aa7bfb",
   "metadata": {},
   "outputs": [
    {
     "data": {
      "text/plain": [
       "(3,)"
      ]
     },
     "execution_count": 128,
     "metadata": {},
     "output_type": "execute_result"
    }
   ],
   "source": [
    "arr1.shape"
   ]
  },
  {
   "cell_type": "code",
   "execution_count": 129,
   "id": "e8457b58-9147-406a-b793-a327a0c7978a",
   "metadata": {},
   "outputs": [],
   "source": [
    "arr2=np.array([1,5,7])"
   ]
  },
  {
   "cell_type": "code",
   "execution_count": 130,
   "id": "50f59354-b805-4b97-a1ee-1f0d3acbb0e6",
   "metadata": {},
   "outputs": [
    {
     "data": {
      "text/plain": [
       "(3,)"
      ]
     },
     "execution_count": 130,
     "metadata": {},
     "output_type": "execute_result"
    }
   ],
   "source": [
    "arr2.shape"
   ]
  },
  {
   "cell_type": "code",
   "execution_count": 131,
   "id": "a6d97773-dc66-472c-a592-6f8e7fcbb588",
   "metadata": {},
   "outputs": [],
   "source": [
    "arr3=arr1*arr2"
   ]
  },
  {
   "cell_type": "code",
   "execution_count": 132,
   "id": "a7b33ab1-a11c-4735-ba0a-c7b33ac5d2b2",
   "metadata": {},
   "outputs": [
    {
     "data": {
      "text/plain": [
       "array([ 2, 15, 28])"
      ]
     },
     "execution_count": 132,
     "metadata": {},
     "output_type": "execute_result"
    }
   ],
   "source": [
    "arr3"
   ]
  },
  {
   "cell_type": "code",
   "execution_count": 133,
   "id": "8512ae03-56ff-407e-b494-7f6141503965",
   "metadata": {},
   "outputs": [],
   "source": [
    "#38 >>>>> Given a 1D array arr1 of shape (1, 4) and a 2D array arr2 of shape (4, 3), add arr1 to each row of arr2 using NumPy broadcasting."
   ]
  },
  {
   "cell_type": "code",
   "execution_count": 134,
   "id": "fe68d40b-2bee-448d-884c-70a2cb19fc12",
   "metadata": {},
   "outputs": [],
   "source": [
    "a=np.array([1,2,3,4])"
   ]
  },
  {
   "cell_type": "code",
   "execution_count": 135,
   "id": "de36ec89-1ead-4a3c-ba3b-c7ca6c7295df",
   "metadata": {},
   "outputs": [],
   "source": [
    "arr5=np.array([[1,2,3,4],[2,3,4,5],[3,4,5,6]])"
   ]
  },
  {
   "cell_type": "code",
   "execution_count": 136,
   "id": "75bd37d0-2157-4ca2-8004-27096d7fa3a1",
   "metadata": {},
   "outputs": [
    {
     "data": {
      "text/plain": [
       "(3, 4)"
      ]
     },
     "execution_count": 136,
     "metadata": {},
     "output_type": "execute_result"
    }
   ],
   "source": [
    "arr5.shape"
   ]
  },
  {
   "cell_type": "code",
   "execution_count": 137,
   "id": "b51637a1-98b5-440b-94de-beb8ecb49bff",
   "metadata": {},
   "outputs": [
    {
     "data": {
      "text/plain": [
       "array([[ 2,  4,  6,  8],\n",
       "       [ 3,  5,  7,  9],\n",
       "       [ 4,  6,  8, 10]])"
      ]
     },
     "execution_count": 137,
     "metadata": {},
     "output_type": "execute_result"
    }
   ],
   "source": [
    "arr5+a"
   ]
  },
  {
   "cell_type": "code",
   "execution_count": 138,
   "id": "9cd0ae87-455b-476e-8d2b-88081052be34",
   "metadata": {},
   "outputs": [],
   "source": [
    "#39 >>>>>> Consider two arrays arr1 of shape (3, 1) and arr2 of shape (1, 3). Add these arrays using NumPy broadcasting.\n"
   ]
  },
  {
   "cell_type": "code",
   "execution_count": 139,
   "id": "9cbf35e9-7b3a-45fc-9f99-e0f11e2bbf38",
   "metadata": {},
   "outputs": [],
   "source": [
    "ar1=np.array([[1,2,3],[2,3,4],[3,4,5]])"
   ]
  },
  {
   "cell_type": "code",
   "execution_count": 140,
   "id": "84230950-7c5b-4070-8a33-a7036bc4698f",
   "metadata": {},
   "outputs": [
    {
     "data": {
      "text/plain": [
       "(3,)"
      ]
     },
     "execution_count": 140,
     "metadata": {},
     "output_type": "execute_result"
    }
   ],
   "source": [
    "arr1.shape"
   ]
  },
  {
   "cell_type": "code",
   "execution_count": 141,
   "id": "901b10c8-95d4-441f-8b68-8407bdce8950",
   "metadata": {},
   "outputs": [],
   "source": [
    "ar2=np.array([[1],[2],[3]])"
   ]
  },
  {
   "cell_type": "code",
   "execution_count": 142,
   "id": "e2ae8251-e077-40ff-ada7-842722baf219",
   "metadata": {},
   "outputs": [
    {
     "data": {
      "text/plain": [
       "(3, 1)"
      ]
     },
     "execution_count": 142,
     "metadata": {},
     "output_type": "execute_result"
    }
   ],
   "source": [
    "ar2.shape"
   ]
  },
  {
   "cell_type": "code",
   "execution_count": 143,
   "id": "fec579f6-1992-4a2e-b86d-661819f98468",
   "metadata": {},
   "outputs": [
    {
     "data": {
      "text/plain": [
       "array([[2, 3, 4],\n",
       "       [4, 5, 6],\n",
       "       [6, 7, 8]])"
      ]
     },
     "execution_count": 143,
     "metadata": {},
     "output_type": "execute_result"
    }
   ],
   "source": [
    "ar1+ar2"
   ]
  },
  {
   "cell_type": "code",
   "execution_count": 144,
   "id": "f4e50ba5-2886-4ae9-b03a-a82709058fa4",
   "metadata": {},
   "outputs": [],
   "source": [
    "#40 >>>>>>. Given arrays arr1 of shape (2, 3) and arr2 of shape (2, 2), perform multiplication using NumPy broadcasting. Handle the shape incompatibility."
   ]
  },
  {
   "cell_type": "code",
   "execution_count": 145,
   "id": "bf1b36ef-396c-4f62-86ad-ef285508c96d",
   "metadata": {},
   "outputs": [],
   "source": [
    "ar3=np.array([[1,2,3],[2,3,4]])"
   ]
  },
  {
   "cell_type": "code",
   "execution_count": 146,
   "id": "ec9c7188-02b4-4c5a-910c-e4dfe7a467e0",
   "metadata": {},
   "outputs": [
    {
     "data": {
      "text/plain": [
       "(2, 3)"
      ]
     },
     "execution_count": 146,
     "metadata": {},
     "output_type": "execute_result"
    }
   ],
   "source": [
    "ar3.shape"
   ]
  },
  {
   "cell_type": "code",
   "execution_count": 147,
   "id": "8061fce7-058c-4620-9e96-1356e79e18ac",
   "metadata": {},
   "outputs": [],
   "source": [
    "ar5=ar3.T # we manupulated the muntiplication by taking transpose and make muntiplication happen."
   ]
  },
  {
   "cell_type": "code",
   "execution_count": 148,
   "id": "6076ca42-a0a8-47bd-9eed-8b9d93e3a4c0",
   "metadata": {},
   "outputs": [],
   "source": [
    "# For muntiplication of array coloumn of first row and row of second row must be equal,thats why take transpose."
   ]
  },
  {
   "cell_type": "code",
   "execution_count": 149,
   "id": "11689c1a-143c-4f9f-815c-abe8287e3704",
   "metadata": {},
   "outputs": [],
   "source": [
    "ar4=np.array([[2,3],[2,6]])"
   ]
  },
  {
   "cell_type": "code",
   "execution_count": 150,
   "id": "6222f640-b4ff-4b02-81de-fed858517115",
   "metadata": {},
   "outputs": [
    {
     "data": {
      "text/plain": [
       "(2, 2)"
      ]
     },
     "execution_count": 150,
     "metadata": {},
     "output_type": "execute_result"
    }
   ],
   "source": [
    "ar4.shape"
   ]
  },
  {
   "cell_type": "code",
   "execution_count": 151,
   "id": "2d84e048-78ce-494c-b34f-1372b565d186",
   "metadata": {},
   "outputs": [
    {
     "data": {
      "text/plain": [
       "array([[14, 20],\n",
       "       [20, 29]])"
      ]
     },
     "execution_count": 151,
     "metadata": {},
     "output_type": "execute_result"
    }
   ],
   "source": [
    "ar3@ar5"
   ]
  },
  {
   "cell_type": "code",
   "execution_count": 152,
   "id": "db197b90-4434-418e-bd58-3cf99056c0f4",
   "metadata": {},
   "outputs": [],
   "source": [
    "#41  >>>>>> Calculate column wise mean for the given array:\n",
    "arr = np.array([[1, 2, 3], [4, 5, 6]])"
   ]
  },
  {
   "cell_type": "code",
   "execution_count": 153,
   "id": "cf7e2a48-690f-4dda-a8d0-c0c0461f24e5",
   "metadata": {},
   "outputs": [
    {
     "data": {
      "text/plain": [
       "array([2., 5.])"
      ]
     },
     "execution_count": 153,
     "metadata": {},
     "output_type": "execute_result"
    }
   ],
   "source": [
    "np.mean(arr,axis=1)"
   ]
  },
  {
   "cell_type": "code",
   "execution_count": 154,
   "id": "b5ab7c75-7b7d-493f-ac58-644188673d9e",
   "metadata": {},
   "outputs": [
    {
     "data": {
      "text/plain": [
       "array([4, 5, 6])"
      ]
     },
     "execution_count": 154,
     "metadata": {},
     "output_type": "execute_result"
    }
   ],
   "source": [
    "#42 >>>>>> Find maximum value in each row of the given array:\n",
    "np.max(arr,axis=0)"
   ]
  },
  {
   "cell_type": "code",
   "execution_count": 155,
   "id": "2cd976a0-1b18-4cce-bcec-dfc469a7c830",
   "metadata": {},
   "outputs": [
    {
     "data": {
      "text/plain": [
       "array([2, 2])"
      ]
     },
     "execution_count": 155,
     "metadata": {},
     "output_type": "execute_result"
    }
   ],
   "source": [
    "#43 >>>>>>  For the given array, find indices of maximum value in each column.\n",
    "np.argmax(arr,axis=1)"
   ]
  },
  {
   "cell_type": "code",
   "execution_count": 156,
   "id": "19e8d9c6-590f-4f8a-bba1-12b2dbf746e4",
   "metadata": {},
   "outputs": [],
   "source": [
    "#44 >>>>>> For the given array, apply custom function to calculate moving sum along rows."
   ]
  },
  {
   "cell_type": "code",
   "execution_count": 157,
   "id": "abedeaba-fcf9-49dc-8684-9ed3045ea93d",
   "metadata": {},
   "outputs": [
    {
     "name": "stdout",
     "output_type": "stream",
     "text": [
      "Moving sums along rows with window size 3 :\n",
      "[[ 1.  3.  6.  9. 12.]\n",
      " [ 6. 13. 21. 24. 27.]\n",
      " [11. 23. 36. 39. 42.]]\n"
     ]
    }
   ],
   "source": [
    "import numpy as np\n",
    "\n",
    "def moving_sum(arr, window_size):\n",
    "    \"\"\"\n",
    "    Calculate the moving sum along the rows of a 2D array.\n",
    "\n",
    "    Parameters:\n",
    "    arr (numpy.ndarray): The input 2D array.\n",
    "    window_size (int): The size of the moving window.\n",
    "\n",
    "    Returns:\n",
    "    numpy.ndarray: A 2D array with the moving sums calculated along the rows.\n",
    "    \"\"\"\n",
    "    if window_size < 1:\n",
    "        raise ValueError(\"Window size must be at least 1\")\n",
    "\n",
    "    # Initialize an array to store the moving sums\n",
    "    moving_sums = np.zeros_like(arr, dtype=float)\n",
    "    \n",
    "    # Calculate the moving sums along each row\n",
    "    for row_index in range(arr.shape[0]):\n",
    "        row = arr[row_index]\n",
    "        for i in range(len(row)):\n",
    "            if i < window_size - 1:\n",
    "                # For the initial elements where the window is not fully covered\n",
    "                moving_sums[row_index, i] = np.sum(row[:i+1])\n",
    "            else:\n",
    "                # For elements where the window is fully covered\n",
    "                moving_sums[row_index, i] = np.sum(row[i-window_size+1:i+1])\n",
    "    \n",
    "    return moving_sums\n",
    "\n",
    "# Example usage\n",
    "arr = np.array([\n",
    "    [1, 2, 3, 4, 5],\n",
    "    [6, 7, 8, 9, 10],\n",
    "    [11, 12, 13, 14, 15]\n",
    "])\n",
    "\n",
    "window_size = 3\n",
    "result = moving_sum(arr, window_size)\n",
    "print(\"Moving sums along rows with window size\", window_size, \":\")\n",
    "print(result)\n"
   ]
  },
  {
   "cell_type": "code",
   "execution_count": 158,
   "id": "bec0226a-65e5-4d0d-b51a-eb8ad38f4bca",
   "metadata": {},
   "outputs": [],
   "source": [
    "#45 >>>>>>> In the given array, check if all elements in each column are even."
   ]
  },
  {
   "cell_type": "code",
   "execution_count": 159,
   "id": "68dc4b53-f219-47eb-ac5d-4c45b92df49e",
   "metadata": {},
   "outputs": [],
   "source": [
    "arr = np.array([[2, 4, 6], [3, 5, 7]])"
   ]
  },
  {
   "cell_type": "code",
   "execution_count": 160,
   "id": "9edc368f-ad32-483f-b0ea-43b7f4b00269",
   "metadata": {},
   "outputs": [
    {
     "name": "stdout",
     "output_type": "stream",
     "text": [
      "Check if all elements in each column are even: [False False False]\n"
     ]
    }
   ],
   "source": [
    "even_check=(arr%2==0)\n",
    "even_column=np.all(even_check,axis=0)\n",
    "print(\"Check if all elements in each column are even:\", even_column)"
   ]
  },
  {
   "cell_type": "code",
   "execution_count": 161,
   "id": "cc5093fe-8a5c-433d-b49e-4b2d6bf85ce8",
   "metadata": {},
   "outputs": [],
   "source": [
    "#46 >>>>>Given a NumPy array arr, reshape it into a matrix of dimensions `m` rows and `n` columns. Return the reshaped matrix.   "
   ]
  },
  {
   "cell_type": "code",
   "execution_count": 162,
   "id": "19cf96ad-8626-4c42-965a-802e45f63bec",
   "metadata": {},
   "outputs": [],
   "source": [
    "original_array = np.array([1, 2, 3, 4, 5, 6])"
   ]
  },
  {
   "cell_type": "code",
   "execution_count": 163,
   "id": "5bcf4c58-76af-4a1f-9d8a-f739e9fa2687",
   "metadata": {},
   "outputs": [
    {
     "data": {
      "text/plain": [
       "array([[1, 2],\n",
       "       [3, 4],\n",
       "       [5, 6]])"
      ]
     },
     "execution_count": 163,
     "metadata": {},
     "output_type": "execute_result"
    }
   ],
   "source": [
    "original_array.reshape(3,2)  # the product of row and column should always be same"
   ]
  },
  {
   "cell_type": "code",
   "execution_count": 164,
   "id": "09bb56c9-4f3d-457a-b45e-e870680de66f",
   "metadata": {},
   "outputs": [],
   "source": [
    "#47 >>>>>  Create a function that takes a matrix as input and returns the flattened array."
   ]
  },
  {
   "cell_type": "code",
   "execution_count": 165,
   "id": "b9f89428-dfe0-4047-951c-48a8d4c4030f",
   "metadata": {},
   "outputs": [],
   "source": [
    "def flatten_array(input_matrix):\n",
    "    arr_new=input_matrix.flatten()\n",
    "    return arr_new"
   ]
  },
  {
   "cell_type": "code",
   "execution_count": 166,
   "id": "2ea4ffe6-ac7f-4fe2-b498-99578a218c96",
   "metadata": {},
   "outputs": [],
   "source": [
    "input_matrix = np.array([[1, 2, 3], [4, 5, 6]])"
   ]
  },
  {
   "cell_type": "code",
   "execution_count": 167,
   "id": "cf8bfcbf-3982-4055-9409-79ec6defd40c",
   "metadata": {},
   "outputs": [
    {
     "data": {
      "text/plain": [
       "array([1, 2, 3, 4, 5, 6])"
      ]
     },
     "execution_count": 167,
     "metadata": {},
     "output_type": "execute_result"
    }
   ],
   "source": [
    "flatten_array(input_matrix)"
   ]
  },
  {
   "cell_type": "code",
   "execution_count": 168,
   "id": "36a2abd4-b224-47dd-b34b-e6ac7f0f9fa2",
   "metadata": {},
   "outputs": [],
   "source": [
    "#48 >>>>  Write a function that concatenates two given arrays along a specified axis."
   ]
  },
  {
   "cell_type": "code",
   "execution_count": 169,
   "id": "943ca431-b4fe-46fe-8dfa-a2f565fe0b58",
   "metadata": {},
   "outputs": [],
   "source": [
    "array1 = np.array([[1, 2], [3, 4]])\n",
    "array2 = np.array([[5, 6], [7, 8]])\n"
   ]
  },
  {
   "cell_type": "code",
   "execution_count": 170,
   "id": "19eb6904-6736-4f89-a226-acc0a04aaf62",
   "metadata": {},
   "outputs": [
    {
     "data": {
      "text/plain": [
       "array([[1, 2],\n",
       "       [3, 4],\n",
       "       [5, 6],\n",
       "       [7, 8]])"
      ]
     },
     "execution_count": 170,
     "metadata": {},
     "output_type": "execute_result"
    }
   ],
   "source": [
    "np.concatenate((array1,array2),axis=0) # row wise concatenation"
   ]
  },
  {
   "cell_type": "code",
   "execution_count": 171,
   "id": "149303a7-33c4-489d-a378-8a880950f14b",
   "metadata": {},
   "outputs": [
    {
     "data": {
      "text/plain": [
       "array([[1, 2, 5, 6],\n",
       "       [3, 4, 7, 8]])"
      ]
     },
     "execution_count": 171,
     "metadata": {},
     "output_type": "execute_result"
    }
   ],
   "source": [
    "np.concatenate((array1,array2),axis=1)"
   ]
  },
  {
   "cell_type": "code",
   "execution_count": 172,
   "id": "f331c073-6bae-4bc1-b216-8f284ab208c0",
   "metadata": {},
   "outputs": [],
   "source": [
    "#49 >>>> Create a function that splits an array into multiple sub-arrays along a specified axis."
   ]
  },
  {
   "cell_type": "code",
   "execution_count": 173,
   "id": "67726eda-e312-441a-a281-0d950269e5b3",
   "metadata": {},
   "outputs": [],
   "source": [
    "original_array = np.array([[1, 2, 3], [4, 5, 6], [7, 8, 9]])"
   ]
  },
  {
   "cell_type": "code",
   "execution_count": 174,
   "id": "14de4426-fa28-4de3-9bf1-6827ffd3470b",
   "metadata": {},
   "outputs": [
    {
     "data": {
      "text/plain": [
       "[array([[1, 2, 3]]), array([[4, 5, 6]]), array([[7, 8, 9]])]"
      ]
     },
     "execution_count": 174,
     "metadata": {},
     "output_type": "execute_result"
    }
   ],
   "source": [
    "np.split(original_array,3)"
   ]
  },
  {
   "cell_type": "code",
   "execution_count": 175,
   "id": "8c03a7df-6c36-4bf5-b08d-7f1dd08aa592",
   "metadata": {},
   "outputs": [],
   "source": [
    "#50 >>>>  . Write a function that inserts and then deletes elements from a given array at specified indices."
   ]
  },
  {
   "cell_type": "code",
   "execution_count": 176,
   "id": "566b9559-6f17-46e5-a9ea-25121aac06cf",
   "metadata": {},
   "outputs": [],
   "source": [
    "original_array = np.array([1, 2, 3, 4, 5])"
   ]
  },
  {
   "cell_type": "code",
   "execution_count": 177,
   "id": "e9f72630-b62b-455b-87a5-b81963835b14",
   "metadata": {},
   "outputs": [],
   "source": [
    "arr100=np.insert(original_array,[2,4],[10,11],axis=0)"
   ]
  },
  {
   "cell_type": "code",
   "execution_count": 178,
   "id": "41609bd9-a4f4-4989-b01f-b724e65e993c",
   "metadata": {},
   "outputs": [
    {
     "data": {
      "text/plain": [
       "array([ 1,  2, 10,  3,  4, 11,  5])"
      ]
     },
     "execution_count": 178,
     "metadata": {},
     "output_type": "execute_result"
    }
   ],
   "source": [
    "arr100"
   ]
  },
  {
   "cell_type": "code",
   "execution_count": 179,
   "id": "c13b195f-b8b6-46c3-8498-25a5b1c6b059",
   "metadata": {},
   "outputs": [],
   "source": [
    "arr101=np.delete(original_array,[1,3],axis=0)"
   ]
  },
  {
   "cell_type": "code",
   "execution_count": 180,
   "id": "bf4fd456-cef9-4174-96df-d944ef82ec5f",
   "metadata": {},
   "outputs": [
    {
     "data": {
      "text/plain": [
       "array([1, 3, 5])"
      ]
     },
     "execution_count": 180,
     "metadata": {},
     "output_type": "execute_result"
    }
   ],
   "source": [
    "arr101"
   ]
  },
  {
   "cell_type": "code",
   "execution_count": 181,
   "id": "24f26e12-b22d-48d5-b25e-65ab66a20471",
   "metadata": {},
   "outputs": [],
   "source": [
    "#51 >>>>> Create a NumPy array `arr1` with random integers and another array `arr2` with integers from 1 to 10. Perform element-wise addition between `arr1` and `arr2`."
   ]
  },
  {
   "cell_type": "code",
   "execution_count": 182,
   "id": "27e7e14b-0457-490b-a8a7-b047aa19d439",
   "metadata": {},
   "outputs": [],
   "source": [
    "import random"
   ]
  },
  {
   "cell_type": "code",
   "execution_count": 183,
   "id": "b4b28602-a25f-4d64-82ca-96dad9a44f37",
   "metadata": {},
   "outputs": [],
   "source": [
    "arr1=np.random.randint(1,10,5)"
   ]
  },
  {
   "cell_type": "code",
   "execution_count": 184,
   "id": "c17d212c-2e0e-46a6-b932-50c26aac4bbf",
   "metadata": {},
   "outputs": [
    {
     "data": {
      "text/plain": [
       "array([6, 6, 3, 9, 9])"
      ]
     },
     "execution_count": 184,
     "metadata": {},
     "output_type": "execute_result"
    }
   ],
   "source": [
    "arr1"
   ]
  },
  {
   "cell_type": "code",
   "execution_count": 185,
   "id": "1d0cb47a-d4d4-41db-ae1e-c958f35fc970",
   "metadata": {},
   "outputs": [],
   "source": [
    "arr2=np.random.randint(1,10,5)"
   ]
  },
  {
   "cell_type": "code",
   "execution_count": 186,
   "id": "6f6fc770-8eb2-4e38-9e0e-b3b5482b21be",
   "metadata": {},
   "outputs": [
    {
     "data": {
      "text/plain": [
       "array([1, 1, 8, 9, 1])"
      ]
     },
     "execution_count": 186,
     "metadata": {},
     "output_type": "execute_result"
    }
   ],
   "source": [
    "arr2"
   ]
  },
  {
   "cell_type": "code",
   "execution_count": 187,
   "id": "9c6033ca-331d-438d-94ac-a1d66018c4fa",
   "metadata": {},
   "outputs": [
    {
     "data": {
      "text/plain": [
       "array([ 7,  7, 11, 18, 10])"
      ]
     },
     "execution_count": 187,
     "metadata": {},
     "output_type": "execute_result"
    }
   ],
   "source": [
    "arr1+arr2"
   ]
  },
  {
   "cell_type": "code",
   "execution_count": 188,
   "id": "9c26062a-da07-483d-ba49-cfcc75a8a75c",
   "metadata": {},
   "outputs": [],
   "source": [
    "#52 >>>>>>Generate a NumPy array `arr1` with sequential integers from 10 to 1 and another array `arr2` with integers from 1 to 10. Subtract `arr2` from `arr1` element-wise."
   ]
  },
  {
   "cell_type": "code",
   "execution_count": 189,
   "id": "f474c742-971f-4263-a5b4-69a3c2adb33c",
   "metadata": {},
   "outputs": [],
   "source": [
    "arr1=np.arange(1,10)"
   ]
  },
  {
   "cell_type": "code",
   "execution_count": 190,
   "id": "95939a27-19a4-400e-8972-2613594cd4cb",
   "metadata": {},
   "outputs": [
    {
     "data": {
      "text/plain": [
       "array([1, 2, 3, 4, 5, 6, 7, 8, 9])"
      ]
     },
     "execution_count": 190,
     "metadata": {},
     "output_type": "execute_result"
    }
   ],
   "source": [
    "arr1"
   ]
  },
  {
   "cell_type": "code",
   "execution_count": 191,
   "id": "80601bfb-53e9-451d-85f1-70ef38182df6",
   "metadata": {},
   "outputs": [],
   "source": [
    "a=arr1[::-1]"
   ]
  },
  {
   "cell_type": "code",
   "execution_count": 192,
   "id": "fab7b264-0719-48a5-8bff-322c0569804d",
   "metadata": {},
   "outputs": [
    {
     "data": {
      "text/plain": [
       "array([9, 8, 7, 6, 5, 4, 3, 2, 1])"
      ]
     },
     "execution_count": 192,
     "metadata": {},
     "output_type": "execute_result"
    }
   ],
   "source": [
    "a"
   ]
  },
  {
   "cell_type": "code",
   "execution_count": 193,
   "id": "0927cd4a-2c28-41ae-b77e-4b159b44fffa",
   "metadata": {},
   "outputs": [],
   "source": [
    "arr2=np.arange(1,10)"
   ]
  },
  {
   "cell_type": "code",
   "execution_count": 194,
   "id": "f962d9a0-80e4-4eec-8aee-96e08e322a96",
   "metadata": {},
   "outputs": [],
   "source": [
    "b=arr2"
   ]
  },
  {
   "cell_type": "code",
   "execution_count": 195,
   "id": "3a7a76af-f51d-4ab6-a863-e7f7027e83b8",
   "metadata": {},
   "outputs": [
    {
     "data": {
      "text/plain": [
       "array([1, 2, 3, 4, 5, 6, 7, 8, 9])"
      ]
     },
     "execution_count": 195,
     "metadata": {},
     "output_type": "execute_result"
    }
   ],
   "source": [
    "b"
   ]
  },
  {
   "cell_type": "code",
   "execution_count": 196,
   "id": "1e297389-269d-4f45-a203-b904696844af",
   "metadata": {},
   "outputs": [
    {
     "data": {
      "text/plain": [
       "array([0, 0, 0, 0, 0, 0, 0, 0, 0])"
      ]
     },
     "execution_count": 196,
     "metadata": {},
     "output_type": "execute_result"
    }
   ],
   "source": [
    "arr2-arr1"
   ]
  },
  {
   "cell_type": "code",
   "execution_count": 197,
   "id": "b2e305d7-ce09-4764-b6eb-891ee8908d30",
   "metadata": {},
   "outputs": [],
   "source": [
    "#53 >>>>Create a NumPy array `arr1` with random integers and another array `arr2` with integers from 1 to 5. Perform element-wise multiplication between `arr1` and `arr2`."
   ]
  },
  {
   "cell_type": "code",
   "execution_count": 198,
   "id": "e937424a-5829-4460-94d0-9fe58843bc58",
   "metadata": {},
   "outputs": [],
   "source": [
    "arr1=np.random.randint(1,10,5)"
   ]
  },
  {
   "cell_type": "code",
   "execution_count": 199,
   "id": "1bb43b87-22b5-488b-8380-4fafd87d3963",
   "metadata": {},
   "outputs": [
    {
     "data": {
      "text/plain": [
       "array([3, 4, 5, 2, 7])"
      ]
     },
     "execution_count": 199,
     "metadata": {},
     "output_type": "execute_result"
    }
   ],
   "source": [
    "arr1"
   ]
  },
  {
   "cell_type": "code",
   "execution_count": 200,
   "id": "9cf4ad6a-ef64-4293-a644-4481a0a76d12",
   "metadata": {},
   "outputs": [],
   "source": [
    "arr2=np.random.randint(2,5,5)"
   ]
  },
  {
   "cell_type": "code",
   "execution_count": 201,
   "id": "2c01090c-9405-40ac-b12b-aa6bab328a52",
   "metadata": {},
   "outputs": [
    {
     "data": {
      "text/plain": [
       "array([2, 2, 4, 2, 4])"
      ]
     },
     "execution_count": 201,
     "metadata": {},
     "output_type": "execute_result"
    }
   ],
   "source": [
    "arr2"
   ]
  },
  {
   "cell_type": "code",
   "execution_count": 202,
   "id": "c5a0495d-be9c-4060-9a59-c64814584a07",
   "metadata": {},
   "outputs": [],
   "source": [
    "arr_new=arr1*arr2"
   ]
  },
  {
   "cell_type": "code",
   "execution_count": 203,
   "id": "6223fd9b-25a7-49ed-8549-105590f52ef6",
   "metadata": {},
   "outputs": [
    {
     "data": {
      "text/plain": [
       "array([ 6,  8, 20,  4, 28])"
      ]
     },
     "execution_count": 203,
     "metadata": {},
     "output_type": "execute_result"
    }
   ],
   "source": [
    "arr_new"
   ]
  },
  {
   "cell_type": "code",
   "execution_count": 204,
   "id": "d0c1c362-1773-4a3e-8ee6-5de5749a63b5",
   "metadata": {},
   "outputs": [],
   "source": [
    "#54 >>>>. Generate a NumPy array `arr1` with even integers from 2 to 10 and another array `arr2` with integers from 1 to 5. Perform element-wise division of `arr1` by `arr2`."
   ]
  },
  {
   "cell_type": "code",
   "execution_count": 205,
   "id": "e04c8bb9-3e95-45a0-9ee5-5962a4171d00",
   "metadata": {},
   "outputs": [],
   "source": [
    "arr1=np.random.randint(2,10,5)"
   ]
  },
  {
   "cell_type": "code",
   "execution_count": 206,
   "id": "7b5c0172-a57c-4a92-81a8-454730290423",
   "metadata": {},
   "outputs": [
    {
     "data": {
      "text/plain": [
       "array([8, 6, 2, 3, 6])"
      ]
     },
     "execution_count": 206,
     "metadata": {},
     "output_type": "execute_result"
    }
   ],
   "source": [
    "arr1"
   ]
  },
  {
   "cell_type": "code",
   "execution_count": 207,
   "id": "52762198-7882-4383-abc3-80b95686de3e",
   "metadata": {},
   "outputs": [],
   "source": [
    "arr2=np.random.randint(1,5,5)"
   ]
  },
  {
   "cell_type": "code",
   "execution_count": 208,
   "id": "a9627d65-d6f8-4b94-9d20-a15f8c7d500e",
   "metadata": {},
   "outputs": [
    {
     "data": {
      "text/plain": [
       "array([1, 2, 2, 1, 3])"
      ]
     },
     "execution_count": 208,
     "metadata": {},
     "output_type": "execute_result"
    }
   ],
   "source": [
    "arr2"
   ]
  },
  {
   "cell_type": "code",
   "execution_count": 209,
   "id": "d00c7169-eac0-4258-bad2-2ee6f981cf33",
   "metadata": {},
   "outputs": [
    {
     "data": {
      "text/plain": [
       "array([8., 3., 1., 3., 2.])"
      ]
     },
     "execution_count": 209,
     "metadata": {},
     "output_type": "execute_result"
    }
   ],
   "source": [
    "arr1/arr2"
   ]
  },
  {
   "cell_type": "code",
   "execution_count": 210,
   "id": "cf817e03-d8f7-45a0-af17-d07220d922c9",
   "metadata": {},
   "outputs": [],
   "source": [
    "#55 >>>>> Create a NumPy array `arr1` with integers from 1 to 5 and another array `arr2` with the same numbers reversed. Calculate the exponentiation of `arr1` raised to the power of `arr2` element-wise."
   ]
  },
  {
   "cell_type": "code",
   "execution_count": 211,
   "id": "0c26cf04-f046-4f9c-997b-d0669080504f",
   "metadata": {},
   "outputs": [],
   "source": [
    "arr1=np.random.randint(1,5,5)"
   ]
  },
  {
   "cell_type": "code",
   "execution_count": 212,
   "id": "39459ba3-38fb-43f5-81a8-f603c9029d2c",
   "metadata": {},
   "outputs": [
    {
     "data": {
      "text/plain": [
       "array([1, 1, 4, 1, 2])"
      ]
     },
     "execution_count": 212,
     "metadata": {},
     "output_type": "execute_result"
    }
   ],
   "source": [
    "arr1"
   ]
  },
  {
   "cell_type": "code",
   "execution_count": 213,
   "id": "f59bc83d-ab42-4262-99b5-a01bbf1d649a",
   "metadata": {},
   "outputs": [],
   "source": [
    "arr2=arr1[::-1]"
   ]
  },
  {
   "cell_type": "code",
   "execution_count": 214,
   "id": "f95f4606-8555-4c66-b3db-e103418c31ae",
   "metadata": {},
   "outputs": [
    {
     "data": {
      "text/plain": [
       "array([2, 1, 4, 1, 1])"
      ]
     },
     "execution_count": 214,
     "metadata": {},
     "output_type": "execute_result"
    }
   ],
   "source": [
    "arr2"
   ]
  },
  {
   "cell_type": "code",
   "execution_count": 215,
   "id": "4a8a420e-7894-420f-8661-2d08dd9e2a79",
   "metadata": {},
   "outputs": [
    {
     "data": {
      "text/plain": [
       "array([  1,   1, 256,   1,   2])"
      ]
     },
     "execution_count": 215,
     "metadata": {},
     "output_type": "execute_result"
    }
   ],
   "source": [
    "arr1**arr2"
   ]
  },
  {
   "cell_type": "code",
   "execution_count": 216,
   "id": "f1812041-9657-4b59-9451-dad94ca34589",
   "metadata": {},
   "outputs": [],
   "source": [
    "#56 >>>>Write a function that counts the occurrences of a specific substring within a NumPy array of strings"
   ]
  },
  {
   "cell_type": "code",
   "execution_count": 217,
   "id": "d735afa9-424d-4398-8c56-b9bb76900d05",
   "metadata": {},
   "outputs": [],
   "source": [
    "arr = np.array(['hello', 'world', 'hello', 'numpy', 'hello'])\n",
    "def count(arr,element_to_count):\n",
    "    c=0\n",
    "    for i in arr:\n",
    "        if i==element_to_count:\n",
    "            c=c+1\n",
    "    print(c)\n",
    "\n"
   ]
  },
  {
   "cell_type": "code",
   "execution_count": 218,
   "id": "a1d28771-953c-4265-977f-3f2beaca0f54",
   "metadata": {},
   "outputs": [
    {
     "name": "stdout",
     "output_type": "stream",
     "text": [
      "3\n"
     ]
    }
   ],
   "source": [
    "count(arr,\"hello\")"
   ]
  },
  {
   "cell_type": "code",
   "execution_count": 219,
   "id": "73812f54-54ba-4f65-b6cc-c2ffed1278b9",
   "metadata": {},
   "outputs": [],
   "source": [
    "#57 >>>>>Write a function that extracts uppercase characters from a NumPy array of strings.\n",
    "\n",
    "arr = np.array(['Hello', 'World', 'OpenAI', 'GPT'])"
   ]
  },
  {
   "cell_type": "code",
   "execution_count": 220,
   "id": "73590e65-62a1-43b1-a76c-af3c572ad621",
   "metadata": {},
   "outputs": [
    {
     "data": {
      "text/plain": [
       "array(['Hello', 'World', 'OpenAI', 'GPT'], dtype='<U6')"
      ]
     },
     "execution_count": 220,
     "metadata": {},
     "output_type": "execute_result"
    }
   ],
   "source": [
    "arr"
   ]
  },
  {
   "cell_type": "code",
   "execution_count": 221,
   "id": "74107421-5f11-411d-ad05-9d4e3d6fb20c",
   "metadata": {},
   "outputs": [],
   "source": [
    "def extract(arr):\n",
    "    for i in arr:\n",
    "        if i==i.upper():\n",
    "            print(i)\n",
    "    \n",
    "            "
   ]
  },
  {
   "cell_type": "code",
   "execution_count": 222,
   "id": "774ebdac-bddd-486d-8553-b63beca9d6f5",
   "metadata": {},
   "outputs": [
    {
     "name": "stdout",
     "output_type": "stream",
     "text": [
      "GPT\n"
     ]
    }
   ],
   "source": [
    "extract(arr)"
   ]
  },
  {
   "cell_type": "code",
   "execution_count": 223,
   "id": "b5bac6f8-80be-4129-aa58-8e3ac9923430",
   "metadata": {},
   "outputs": [],
   "source": [
    "#58 >>>> Write a function that replaces occurrences of a substring in a NumPy array of strings with a new string"
   ]
  },
  {
   "cell_type": "code",
   "execution_count": 224,
   "id": "d8faf7f3-ae27-49d1-9ad7-fc9133cd3b15",
   "metadata": {},
   "outputs": [],
   "source": [
    "arr = np.array(['apple', 'banana', 'grape', 'pineapple'])\n"
   ]
  },
  {
   "cell_type": "code",
   "execution_count": 225,
   "id": "3a4dac41-3c2b-41bf-a93c-e0548ff41042",
   "metadata": {},
   "outputs": [],
   "source": [
    "arr[2]=\"mango\" # reolaced grape with mango"
   ]
  },
  {
   "cell_type": "code",
   "execution_count": 226,
   "id": "44b6c2b9-7295-46dc-9020-db9e374ba5a2",
   "metadata": {},
   "outputs": [
    {
     "data": {
      "text/plain": [
       "array(['apple', 'banana', 'mango', 'pineapple'], dtype='<U9')"
      ]
     },
     "execution_count": 226,
     "metadata": {},
     "output_type": "execute_result"
    }
   ],
   "source": [
    "arr"
   ]
  },
  {
   "cell_type": "code",
   "execution_count": 227,
   "id": "53a2458a-94f7-4147-abfb-723ba96924ee",
   "metadata": {},
   "outputs": [],
   "source": [
    "#59 >>>>>Write a function that concatenates strings in a NumPy array element-wise."
   ]
  },
  {
   "cell_type": "code",
   "execution_count": 228,
   "id": "0e27a6c7-6cc5-42de-b17b-0bd4cc194fcc",
   "metadata": {},
   "outputs": [],
   "source": [
    "arr1 = np.array(['Hello', 'World'])\n",
    "arr2 = np.array(['Open', 'AI'])"
   ]
  },
  {
   "cell_type": "code",
   "execution_count": 229,
   "id": "d11bc2bb-9c73-4236-b55a-f0e738fb7da2",
   "metadata": {},
   "outputs": [],
   "source": [
    "def conc(arr1,arr2):\n",
    "    final_arr=np.char.add(arr1,arr2)\n",
    "    return final_arr"
   ]
  },
  {
   "cell_type": "code",
   "execution_count": 230,
   "id": "1db48487-6fa2-49c7-a9f0-30952bf18e56",
   "metadata": {},
   "outputs": [
    {
     "data": {
      "text/plain": [
       "array(['HelloOpen', 'WorldAI'], dtype='<U9')"
      ]
     },
     "execution_count": 230,
     "metadata": {},
     "output_type": "execute_result"
    }
   ],
   "source": [
    "conc(arr1,arr2)"
   ]
  },
  {
   "cell_type": "code",
   "execution_count": 231,
   "id": "fd4ec553-764a-4462-8c71-1291b135dfc5",
   "metadata": {},
   "outputs": [],
   "source": [
    "#60 >>>> Write a function that finds the length of the longest string in a NumPy array.\n",
    "\n",
    "arr = np.array(['apple', 'banana', 'grape', 'pineapple'])"
   ]
  },
  {
   "cell_type": "code",
   "execution_count": 232,
   "id": "13c77158-1941-4115-8621-21d2376e13e5",
   "metadata": {},
   "outputs": [],
   "source": [
    "def find(arr):\n",
    "    for i in arr:\n",
    "        length=max(len(i) for i in arr)\n",
    "    return length\n",
    "        \n",
    "    "
   ]
  },
  {
   "cell_type": "code",
   "execution_count": 233,
   "id": "dd61a5f9-9b6a-448e-8b8c-198b1c487d66",
   "metadata": {},
   "outputs": [
    {
     "data": {
      "text/plain": [
       "9"
      ]
     },
     "execution_count": 233,
     "metadata": {},
     "output_type": "execute_result"
    }
   ],
   "source": [
    "find(arr)"
   ]
  },
  {
   "cell_type": "code",
   "execution_count": 234,
   "id": "49a75679-bd65-4e67-82bf-494f3dec21a0",
   "metadata": {},
   "outputs": [],
   "source": [
    "#61. >>>>>> Create a dataset of 100 random integers between 1 and 1000. Compute the mean, median, variance, andstandard deviation of the dataset using NumPy's functions."
   ]
  },
  {
   "cell_type": "code",
   "execution_count": 235,
   "id": "7f0a76c2-2b29-4d79-894f-3e94ffe5ca9a",
   "metadata": {},
   "outputs": [],
   "source": [
    "ds=np.random.randint(1,1000,100)"
   ]
  },
  {
   "cell_type": "code",
   "execution_count": 236,
   "id": "f8c442d6-5ead-4bfa-b925-bd4d2498bede",
   "metadata": {},
   "outputs": [],
   "source": [
    "import pandas as pd"
   ]
  },
  {
   "cell_type": "code",
   "execution_count": 237,
   "id": "cda0a97e-d8c6-4d75-b954-e2e065c9b6df",
   "metadata": {},
   "outputs": [
    {
     "data": {
      "text/html": [
       "<div>\n",
       "<style scoped>\n",
       "    .dataframe tbody tr th:only-of-type {\n",
       "        vertical-align: middle;\n",
       "    }\n",
       "\n",
       "    .dataframe tbody tr th {\n",
       "        vertical-align: top;\n",
       "    }\n",
       "\n",
       "    .dataframe thead th {\n",
       "        text-align: right;\n",
       "    }\n",
       "</style>\n",
       "<table border=\"1\" class=\"dataframe\">\n",
       "  <thead>\n",
       "    <tr style=\"text-align: right;\">\n",
       "      <th></th>\n",
       "      <th>0</th>\n",
       "    </tr>\n",
       "  </thead>\n",
       "  <tbody>\n",
       "    <tr>\n",
       "      <th>0</th>\n",
       "      <td>613</td>\n",
       "    </tr>\n",
       "    <tr>\n",
       "      <th>1</th>\n",
       "      <td>109</td>\n",
       "    </tr>\n",
       "    <tr>\n",
       "      <th>2</th>\n",
       "      <td>598</td>\n",
       "    </tr>\n",
       "    <tr>\n",
       "      <th>3</th>\n",
       "      <td>932</td>\n",
       "    </tr>\n",
       "    <tr>\n",
       "      <th>4</th>\n",
       "      <td>310</td>\n",
       "    </tr>\n",
       "    <tr>\n",
       "      <th>...</th>\n",
       "      <td>...</td>\n",
       "    </tr>\n",
       "    <tr>\n",
       "      <th>95</th>\n",
       "      <td>4</td>\n",
       "    </tr>\n",
       "    <tr>\n",
       "      <th>96</th>\n",
       "      <td>214</td>\n",
       "    </tr>\n",
       "    <tr>\n",
       "      <th>97</th>\n",
       "      <td>272</td>\n",
       "    </tr>\n",
       "    <tr>\n",
       "      <th>98</th>\n",
       "      <td>367</td>\n",
       "    </tr>\n",
       "    <tr>\n",
       "      <th>99</th>\n",
       "      <td>316</td>\n",
       "    </tr>\n",
       "  </tbody>\n",
       "</table>\n",
       "<p>100 rows × 1 columns</p>\n",
       "</div>"
      ],
      "text/plain": [
       "      0\n",
       "0   613\n",
       "1   109\n",
       "2   598\n",
       "3   932\n",
       "4   310\n",
       "..  ...\n",
       "95    4\n",
       "96  214\n",
       "97  272\n",
       "98  367\n",
       "99  316\n",
       "\n",
       "[100 rows x 1 columns]"
      ]
     },
     "execution_count": 237,
     "metadata": {},
     "output_type": "execute_result"
    }
   ],
   "source": [
    "pd.DataFrame(ds)"
   ]
  },
  {
   "cell_type": "code",
   "execution_count": 238,
   "id": "fc027d99-1323-422f-af73-33de8b35b897",
   "metadata": {},
   "outputs": [
    {
     "data": {
      "text/plain": [
       "510.17"
      ]
     },
     "execution_count": 238,
     "metadata": {},
     "output_type": "execute_result"
    }
   ],
   "source": [
    "ds.mean()   # to find the mean"
   ]
  },
  {
   "cell_type": "code",
   "execution_count": 239,
   "id": "455fd32f-efb2-4abf-8051-b6dd38db2aa8",
   "metadata": {},
   "outputs": [
    {
     "data": {
      "text/plain": [
       "75817.4611"
      ]
     },
     "execution_count": 239,
     "metadata": {},
     "output_type": "execute_result"
    }
   ],
   "source": [
    "ds.var() # to find the variance"
   ]
  },
  {
   "cell_type": "code",
   "execution_count": 240,
   "id": "a6862653-db04-401e-92fa-aaacc0eea060",
   "metadata": {},
   "outputs": [
    {
     "data": {
      "text/plain": [
       "275.3497069183114"
      ]
     },
     "execution_count": 240,
     "metadata": {},
     "output_type": "execute_result"
    }
   ],
   "source": [
    "ds.std()  # to find the standard deviation"
   ]
  },
  {
   "cell_type": "code",
   "execution_count": 241,
   "id": "cf1a8060-a796-41ae-9aad-cc9201a7786d",
   "metadata": {},
   "outputs": [],
   "source": [
    "import statistics as st"
   ]
  },
  {
   "cell_type": "code",
   "execution_count": 242,
   "id": "954b748d-316b-44ac-88bf-a9b4157ca632",
   "metadata": {},
   "outputs": [
    {
     "data": {
      "text/plain": [
       "499.0"
      ]
     },
     "execution_count": 242,
     "metadata": {},
     "output_type": "execute_result"
    }
   ],
   "source": [
    "st.median(ds) # to find the median of the dataset"
   ]
  },
  {
   "cell_type": "code",
   "execution_count": 243,
   "id": "b0e44d77-313a-42f4-a21b-7301b2a51f56",
   "metadata": {},
   "outputs": [],
   "source": [
    "#62 >>> Generate an array of 50 random numbers between 1 and 100. Find the 25th and 75th percentiles of the dataset."
   ]
  },
  {
   "cell_type": "code",
   "execution_count": 244,
   "id": "d8dcc6aa-4eaf-4520-983f-9e4a45c5d5d7",
   "metadata": {},
   "outputs": [],
   "source": [
    "ds=np.random.randint(1,100,50)"
   ]
  },
  {
   "cell_type": "code",
   "execution_count": 245,
   "id": "03a00b8b-9115-48e8-b84d-d3d760c6bd0a",
   "metadata": {},
   "outputs": [],
   "source": [
    "df=pd.DataFrame(ds)"
   ]
  },
  {
   "cell_type": "code",
   "execution_count": 246,
   "id": "aa04d98c-8601-47b7-bab0-53dc3f875cce",
   "metadata": {},
   "outputs": [
    {
     "data": {
      "text/html": [
       "<div>\n",
       "<style scoped>\n",
       "    .dataframe tbody tr th:only-of-type {\n",
       "        vertical-align: middle;\n",
       "    }\n",
       "\n",
       "    .dataframe tbody tr th {\n",
       "        vertical-align: top;\n",
       "    }\n",
       "\n",
       "    .dataframe thead th {\n",
       "        text-align: right;\n",
       "    }\n",
       "</style>\n",
       "<table border=\"1\" class=\"dataframe\">\n",
       "  <thead>\n",
       "    <tr style=\"text-align: right;\">\n",
       "      <th></th>\n",
       "      <th>0</th>\n",
       "    </tr>\n",
       "  </thead>\n",
       "  <tbody>\n",
       "    <tr>\n",
       "      <th>count</th>\n",
       "      <td>50.000000</td>\n",
       "    </tr>\n",
       "    <tr>\n",
       "      <th>mean</th>\n",
       "      <td>49.980000</td>\n",
       "    </tr>\n",
       "    <tr>\n",
       "      <th>std</th>\n",
       "      <td>29.958808</td>\n",
       "    </tr>\n",
       "    <tr>\n",
       "      <th>min</th>\n",
       "      <td>1.000000</td>\n",
       "    </tr>\n",
       "    <tr>\n",
       "      <th>25%</th>\n",
       "      <td>23.250000</td>\n",
       "    </tr>\n",
       "    <tr>\n",
       "      <th>50%</th>\n",
       "      <td>54.000000</td>\n",
       "    </tr>\n",
       "    <tr>\n",
       "      <th>75%</th>\n",
       "      <td>70.000000</td>\n",
       "    </tr>\n",
       "    <tr>\n",
       "      <th>max</th>\n",
       "      <td>99.000000</td>\n",
       "    </tr>\n",
       "  </tbody>\n",
       "</table>\n",
       "</div>"
      ],
      "text/plain": [
       "               0\n",
       "count  50.000000\n",
       "mean   49.980000\n",
       "std    29.958808\n",
       "min     1.000000\n",
       "25%    23.250000\n",
       "50%    54.000000\n",
       "75%    70.000000\n",
       "max    99.000000"
      ]
     },
     "execution_count": 246,
     "metadata": {},
     "output_type": "execute_result"
    }
   ],
   "source": [
    "df.describe()"
   ]
  },
  {
   "cell_type": "code",
   "execution_count": 247,
   "id": "2e878d93-9c17-4189-bbda-d109cc8ee638",
   "metadata": {},
   "outputs": [],
   "source": [
    "#here the 25 percentile is 30.5 and 75 percentile is 88.0"
   ]
  },
  {
   "cell_type": "code",
   "execution_count": 248,
   "id": "b209c323-9936-4470-b35a-8e7184fc960d",
   "metadata": {},
   "outputs": [],
   "source": [
    "#63 >>>>> Create two arrays representing two sets of variables. Compute the correlation coefficient between these arrays using NumPy's `corrcoef` function"
   ]
  },
  {
   "cell_type": "code",
   "execution_count": 249,
   "id": "8117fe21-ed93-479e-aba6-c95aa9b33011",
   "metadata": {},
   "outputs": [],
   "source": [
    "arr1=np.array([1,2,3,4])"
   ]
  },
  {
   "cell_type": "code",
   "execution_count": 250,
   "id": "b54e5a45-6014-4dd5-82bf-e6f71b14f72c",
   "metadata": {},
   "outputs": [],
   "source": [
    "arr2=np.array([2,4,6,8])"
   ]
  },
  {
   "cell_type": "code",
   "execution_count": 251,
   "id": "d7ac4192-3c1b-4c9f-9289-6c17e1b30b31",
   "metadata": {},
   "outputs": [
    {
     "data": {
      "text/plain": [
       "array([[1., 1.],\n",
       "       [1., 1.]])"
      ]
     },
     "execution_count": 251,
     "metadata": {},
     "output_type": "execute_result"
    }
   ],
   "source": [
    "np.corrcoef(arr1,arr2)"
   ]
  },
  {
   "cell_type": "code",
   "execution_count": 252,
   "id": "9e40a261-c298-47d7-9e6d-bbae44824d08",
   "metadata": {},
   "outputs": [],
   "source": [
    "#64 >>>>>Create two matrices and perform matrix multiplication using NumPy's `dot` function."
   ]
  },
  {
   "cell_type": "code",
   "execution_count": 253,
   "id": "e56284b9-5139-4cd9-ab1b-0c6797e55cc9",
   "metadata": {},
   "outputs": [],
   "source": [
    "matrix1=np.matrix([[1,2,3],[2,3,4],[2,3,5]])"
   ]
  },
  {
   "cell_type": "code",
   "execution_count": 254,
   "id": "5815c85a-3541-46b4-b398-3912fffb450a",
   "metadata": {},
   "outputs": [
    {
     "data": {
      "text/plain": [
       "matrix([[1, 2, 3],\n",
       "        [2, 3, 4],\n",
       "        [2, 3, 5]])"
      ]
     },
     "execution_count": 254,
     "metadata": {},
     "output_type": "execute_result"
    }
   ],
   "source": [
    "matrix1"
   ]
  },
  {
   "cell_type": "code",
   "execution_count": 255,
   "id": "d36ae21a-78e9-488f-80f3-194ecb0e820c",
   "metadata": {},
   "outputs": [],
   "source": [
    "matrix2=np.matrix([[2,3,4],[2,5,6],[5,7,9]])"
   ]
  },
  {
   "cell_type": "code",
   "execution_count": 256,
   "id": "6dd7327d-72ea-4dbc-ac99-03dbe3a8de05",
   "metadata": {},
   "outputs": [
    {
     "data": {
      "text/plain": [
       "matrix([[2, 3, 4],\n",
       "        [2, 5, 6],\n",
       "        [5, 7, 9]])"
      ]
     },
     "execution_count": 256,
     "metadata": {},
     "output_type": "execute_result"
    }
   ],
   "source": [
    "matrix2"
   ]
  },
  {
   "cell_type": "code",
   "execution_count": 257,
   "id": "2c5fad68-05fe-4e02-b522-ace52f665a01",
   "metadata": {},
   "outputs": [
    {
     "data": {
      "text/plain": [
       "matrix([[21, 34, 43],\n",
       "        [30, 49, 62],\n",
       "        [35, 56, 71]])"
      ]
     },
     "execution_count": 257,
     "metadata": {},
     "output_type": "execute_result"
    }
   ],
   "source": [
    "matrix1.dot(matrix2)"
   ]
  },
  {
   "cell_type": "code",
   "execution_count": 258,
   "id": "338550a3-0a85-49c4-a516-05712f976292",
   "metadata": {},
   "outputs": [],
   "source": [
    "#65>>>>>Create an array of 50 integers between 10 and 1000. Calculate the 10th, 50th (median), and 90th percentiles along with the first and third quartiles."
   ]
  },
  {
   "cell_type": "code",
   "execution_count": 259,
   "id": "e1517804-9132-4d50-8f84-e88e06999c06",
   "metadata": {},
   "outputs": [],
   "source": [
    "arr1=np.random.randint(10,1000,50)"
   ]
  },
  {
   "cell_type": "code",
   "execution_count": 260,
   "id": "7838b763-b77f-45ed-80ae-f43c37e0cb6b",
   "metadata": {},
   "outputs": [
    {
     "data": {
      "text/plain": [
       "array([912, 615, 549, 887, 804, 933, 990, 557, 516, 912, 211, 374, 116,\n",
       "        94, 145, 248, 405, 289,  75, 555, 143, 624, 304, 149, 694, 823,\n",
       "       121, 165, 545, 589, 792, 905, 459, 355, 971, 414,  23, 953, 269,\n",
       "       736, 535, 342, 289,  91,  60, 444, 502, 536, 177, 196])"
      ]
     },
     "execution_count": 260,
     "metadata": {},
     "output_type": "execute_result"
    }
   ],
   "source": [
    "arr1"
   ]
  },
  {
   "cell_type": "code",
   "execution_count": 261,
   "id": "e47c2ad5-11bb-4b6e-9c28-554b218c78e3",
   "metadata": {},
   "outputs": [
    {
     "data": {
      "text/plain": [
       "113.80000000000001"
      ]
     },
     "execution_count": 261,
     "metadata": {},
     "output_type": "execute_result"
    }
   ],
   "source": [
    "np.percentile(arr1,10)"
   ]
  },
  {
   "cell_type": "code",
   "execution_count": 262,
   "id": "5bc32d12-1a8f-4947-ae08-067e11741eb9",
   "metadata": {},
   "outputs": [
    {
     "data": {
      "text/plain": [
       "451.5"
      ]
     },
     "execution_count": 262,
     "metadata": {},
     "output_type": "execute_result"
    }
   ],
   "source": [
    "np.percentile(arr1,50)"
   ]
  },
  {
   "cell_type": "code",
   "execution_count": 263,
   "id": "18ad0924-0fb0-4404-8f82-7f08b3aed926",
   "metadata": {},
   "outputs": [
    {
     "data": {
      "text/plain": [
       "912.0"
      ]
     },
     "execution_count": 263,
     "metadata": {},
     "output_type": "execute_result"
    }
   ],
   "source": [
    "np.percentile(arr1,90)"
   ]
  },
  {
   "cell_type": "code",
   "execution_count": 264,
   "id": "6314bca5-2177-43dc-8b24-21bcacd7d525",
   "metadata": {},
   "outputs": [
    {
     "data": {
      "text/plain": [
       "199.75"
      ]
     },
     "execution_count": 264,
     "metadata": {},
     "output_type": "execute_result"
    }
   ],
   "source": [
    "np.percentile(arr1,25)"
   ]
  },
  {
   "cell_type": "code",
   "execution_count": 265,
   "id": "2aa8fdb3-7dd5-4f82-9e33-02032a6c4053",
   "metadata": {},
   "outputs": [
    {
     "data": {
      "text/plain": [
       "676.5"
      ]
     },
     "execution_count": 265,
     "metadata": {},
     "output_type": "execute_result"
    }
   ],
   "source": [
    "np.percentile(arr1,75)"
   ]
  },
  {
   "cell_type": "code",
   "execution_count": 266,
   "id": "d08efbcd-5f66-49c9-835e-c102e7015755",
   "metadata": {},
   "outputs": [],
   "source": [
    "#66 >>>>>  Create a NumPy array of integers and find the index of a specific element."
   ]
  },
  {
   "cell_type": "code",
   "execution_count": 267,
   "id": "ed95d0e7-28bf-4220-bb63-523b964f9bce",
   "metadata": {},
   "outputs": [],
   "source": [
    "arr=np.array([1,2,3,4,5])"
   ]
  },
  {
   "cell_type": "code",
   "execution_count": 268,
   "id": "a9d0746b-f894-474c-bfe1-7f9e7af104d8",
   "metadata": {},
   "outputs": [
    {
     "data": {
      "text/plain": [
       "3"
      ]
     },
     "execution_count": 268,
     "metadata": {},
     "output_type": "execute_result"
    }
   ],
   "source": [
    "arr[2]"
   ]
  },
  {
   "cell_type": "code",
   "execution_count": 269,
   "id": "2d5b79fb-3cdd-4dbd-bb2b-46fe09f4f628",
   "metadata": {},
   "outputs": [],
   "source": [
    "#67 >>>>Generate a random NumPy array and sort it in ascending order"
   ]
  },
  {
   "cell_type": "code",
   "execution_count": 270,
   "id": "3767800f-c960-4be7-9839-c3c6c48a22ab",
   "metadata": {},
   "outputs": [],
   "source": [
    "arr=np.array([1,3,4,5,66,45,3,44,5,33,444,35,1543,333])"
   ]
  },
  {
   "cell_type": "code",
   "execution_count": 271,
   "id": "b721c4d1-4c13-4866-bef7-372f85888398",
   "metadata": {},
   "outputs": [
    {
     "data": {
      "text/plain": [
       "array([   1,    3,    3,    4,    5,    5,   33,   35,   44,   45,   66,\n",
       "        333,  444, 1543])"
      ]
     },
     "execution_count": 271,
     "metadata": {},
     "output_type": "execute_result"
    }
   ],
   "source": [
    "np.sort(arr)"
   ]
  },
  {
   "cell_type": "code",
   "execution_count": 272,
   "id": "6a1f4854-18ac-42ca-9b76-362e9ce58fad",
   "metadata": {},
   "outputs": [],
   "source": [
    "#68 >>>>>>Filter elements >20  in the given NumPy array."
   ]
  },
  {
   "cell_type": "code",
   "execution_count": 273,
   "id": "61bf5e2a-b7c2-4f0b-98d9-c93cdc96f2cf",
   "metadata": {},
   "outputs": [],
   "source": [
    "arr = np.array([12, 25, 6, 42, 8, 30])"
   ]
  },
  {
   "cell_type": "code",
   "execution_count": 274,
   "id": "5d026960-ce59-423d-9332-87bb099a18f1",
   "metadata": {},
   "outputs": [
    {
     "data": {
      "text/plain": [
       "array([25, 42, 30])"
      ]
     },
     "execution_count": 274,
     "metadata": {},
     "output_type": "execute_result"
    }
   ],
   "source": [
    "arr[arr>20]"
   ]
  },
  {
   "cell_type": "code",
   "execution_count": 275,
   "id": "137ae2a4-f565-4b97-ad0a-e9d85c6fc47c",
   "metadata": {},
   "outputs": [],
   "source": [
    "#69 >>>>>>> Filter elements which are divisible by 3 from a given NumPy array."
   ]
  },
  {
   "cell_type": "code",
   "execution_count": 276,
   "id": "7ff6ef53-fa64-4e9e-b2a7-c2b0e991d7ea",
   "metadata": {},
   "outputs": [],
   "source": [
    "arr = np.array([1, 5, 8, 12, 15])"
   ]
  },
  {
   "cell_type": "code",
   "execution_count": 277,
   "id": "4d919048-d048-4d75-b824-c4ddd03397f2",
   "metadata": {},
   "outputs": [
    {
     "data": {
      "text/plain": [
       "array([12, 15])"
      ]
     },
     "execution_count": 277,
     "metadata": {},
     "output_type": "execute_result"
    }
   ],
   "source": [
    "arr[arr%3==0]"
   ]
  },
  {
   "cell_type": "code",
   "execution_count": 278,
   "id": "32c25b37-e68c-400f-8f8d-4f7cef2e63b7",
   "metadata": {},
   "outputs": [],
   "source": [
    "#70 >>>Filter elements which are ≥ 20 and ≤ 40 from a given NumPy array"
   ]
  },
  {
   "cell_type": "code",
   "execution_count": 279,
   "id": "a10880d4-8378-403e-aa74-65674e05f5ac",
   "metadata": {},
   "outputs": [],
   "source": [
    "arr = np.array([10, 20, 30, 40, 50])"
   ]
  },
  {
   "cell_type": "code",
   "execution_count": 280,
   "id": "7d4aad1d-8761-44f7-9862-4a77563a8812",
   "metadata": {},
   "outputs": [
    {
     "data": {
      "text/plain": [
       "array([20, 30, 40])"
      ]
     },
     "execution_count": 280,
     "metadata": {},
     "output_type": "execute_result"
    }
   ],
   "source": [
    "arr[(arr>=20) & (arr<=40)]"
   ]
  },
  {
   "cell_type": "code",
   "execution_count": 281,
   "id": "f99a4846-0eaf-4c22-bdc9-079a9f2440f6",
   "metadata": {},
   "outputs": [],
   "source": [
    "#71 >>>>>For the given NumPy array, check its byte order using the `dtype` attribute byteorder."
   ]
  },
  {
   "cell_type": "code",
   "execution_count": 282,
   "id": "46334c9d-4462-428e-afba-47aae951e45b",
   "metadata": {},
   "outputs": [],
   "source": [
    "arr = np.array([1, 2, 3])"
   ]
  },
  {
   "cell_type": "code",
   "execution_count": 283,
   "id": "41152307-28ae-4d8f-8e45-166384dba2ef",
   "metadata": {},
   "outputs": [
    {
     "data": {
      "text/plain": [
       "'='"
      ]
     },
     "execution_count": 283,
     "metadata": {},
     "output_type": "execute_result"
    }
   ],
   "source": [
    "arr.dtype.byteorder"
   ]
  },
  {
   "cell_type": "code",
   "execution_count": 284,
   "id": "45e0c773-cb63-4c59-ae6d-eb8b5672f85c",
   "metadata": {},
   "outputs": [],
   "source": [
    "#72 >>>> For the given NumPy array, perform byte swapping in place using `byteswap()`."
   ]
  },
  {
   "cell_type": "code",
   "execution_count": 285,
   "id": "71efea0f-8900-4f05-9fbd-93bcf9b3cffa",
   "metadata": {},
   "outputs": [],
   "source": [
    "arr = np.array([1, 2, 3], dtype=np.int32)\n"
   ]
  },
  {
   "cell_type": "code",
   "execution_count": 286,
   "id": "d1902df0-007a-41c7-be07-1c42fb8a179b",
   "metadata": {},
   "outputs": [
    {
     "data": {
      "text/plain": [
       "array([16777216, 33554432, 50331648], dtype=int32)"
      ]
     },
     "execution_count": 286,
     "metadata": {},
     "output_type": "execute_result"
    }
   ],
   "source": [
    "arr.byteswap()"
   ]
  },
  {
   "cell_type": "code",
   "execution_count": 287,
   "id": "3e75aa6f-4c6a-4a96-a193-cc30709eaa64",
   "metadata": {},
   "outputs": [],
   "source": [
    "#73 >>>> For the given NumPy array, swap its byte order without modifying the original array using `newbyteorder()`."
   ]
  },
  {
   "cell_type": "code",
   "execution_count": 288,
   "id": "4e65cc36-4993-4ab5-8748-17eb30f30bd1",
   "metadata": {},
   "outputs": [],
   "source": [
    "arr = np.array([1, 2, 3], dtype=np.int32)"
   ]
  },
  {
   "cell_type": "code",
   "execution_count": 289,
   "id": "9cb2eb5e-bf46-47e2-83ed-e4065def4e89",
   "metadata": {},
   "outputs": [
    {
     "data": {
      "text/plain": [
       "array([16777216, 33554432, 50331648], dtype=int32)"
      ]
     },
     "execution_count": 289,
     "metadata": {},
     "output_type": "execute_result"
    }
   ],
   "source": [
    "arr.newbyteorder()"
   ]
  },
  {
   "cell_type": "code",
   "execution_count": 290,
   "id": "697cfa05-7b6d-44e3-8948-06632ad18185",
   "metadata": {},
   "outputs": [],
   "source": [
    "#74 >>>> For the given NumPy array and swap its byte order conditionally based on system endianness using `newbyteorder()`."
   ]
  },
  {
   "cell_type": "code",
   "execution_count": 291,
   "id": "b8d67faf-5622-45a2-8c26-4910fe263662",
   "metadata": {},
   "outputs": [],
   "source": [
    "arr = np.array([1, 2, 3], dtype=np.int32)"
   ]
  },
  {
   "cell_type": "code",
   "execution_count": 292,
   "id": "ae5f1c9f-8667-4d69-83c8-24941874ac75",
   "metadata": {},
   "outputs": [
    {
     "data": {
      "text/plain": [
       "array([16777216, 33554432, 50331648], dtype=int32)"
      ]
     },
     "execution_count": 292,
     "metadata": {},
     "output_type": "execute_result"
    }
   ],
   "source": [
    "arr.byteswap()"
   ]
  },
  {
   "cell_type": "code",
   "execution_count": 293,
   "id": "ed5585d6-ec98-4e1b-950c-3a2660dd9d7e",
   "metadata": {},
   "outputs": [
    {
     "data": {
      "text/plain": [
       "array([16777216, 33554432, 50331648], dtype=int32)"
      ]
     },
     "execution_count": 293,
     "metadata": {},
     "output_type": "execute_result"
    }
   ],
   "source": [
    "arr.newbyteorder()"
   ]
  },
  {
   "cell_type": "code",
   "execution_count": 294,
   "id": "95b760a9-c709-4fa0-a082-2ab238d84b8d",
   "metadata": {},
   "outputs": [],
   "source": [
    "#75 >>>> For the given NumPy array, check if byte swapping is necessary for the current system using `dtype` attribute `byteorder`."
   ]
  },
  {
   "cell_type": "code",
   "execution_count": 295,
   "id": "45bc06d2-953d-49c6-b1aa-8fdb28269c54",
   "metadata": {},
   "outputs": [
    {
     "name": "stdout",
     "output_type": "stream",
     "text": [
      "No byte swapping is necessary.\n",
      "Array byte order: =\n",
      "System native byte order: <\n"
     ]
    }
   ],
   "source": [
    "import numpy as np\n",
    "\n",
    "# Define the array\n",
    "arr = np.array([1, 2, 3], dtype=np.int32)\n",
    "\n",
    "# Get the byte order of the array's dtype\n",
    "byteorder = arr.dtype.byteorder\n",
    "\n",
    "# Determine the native byte order of the system\n",
    "import sys\n",
    "native_byteorder = '<' if sys.byteorder == 'little' else '>'\n",
    "\n",
    "# Check if byte swapping is necessary\n",
    "if byteorder == '=':  # '=' means native byte order\n",
    "    print(\"No byte swapping is necessary.\")\n",
    "elif byteorder != native_byteorder:\n",
    "    print(\"Byte swapping is necessary.\")\n",
    "else:\n",
    "    print(\"No byte swapping is necessary.\")\n",
    "\n",
    "# Print the byte order of the array and the system's native byte order\n",
    "print(f\"Array byte order: {byteorder}\")\n",
    "print(f\"System native byte order: {native_byteorder}\")\n"
   ]
  },
  {
   "cell_type": "code",
   "execution_count": 296,
   "id": "6ad5cc03-1831-4b0a-bd90-4422085b734e",
   "metadata": {},
   "outputs": [
    {
     "data": {
      "text/plain": [
       "'76 >>> Create a NumPy array `arr1` with values from 1 to 10. Create a copy of `arr1` named `copy_arr` and modify\\nan element in `copy_arr`. Check if modifying `copy_arr` affects `arr1`.'"
      ]
     },
     "execution_count": 296,
     "metadata": {},
     "output_type": "execute_result"
    }
   ],
   "source": [
    "\"\"\"76 >>> Create a NumPy array `arr1` with values from 1 to 10. Create a copy of `arr1` named `copy_arr` and modify\n",
    "an element in `copy_arr`. Check if modifying `copy_arr` affects `arr1`.\"\"\""
   ]
  },
  {
   "cell_type": "code",
   "execution_count": 339,
   "id": "e0f7e06f-767e-4ca1-88c6-d2a4ba43d465",
   "metadata": {},
   "outputs": [],
   "source": [
    "arr1=np.array([1,2,4,5,7,8])"
   ]
  },
  {
   "cell_type": "code",
   "execution_count": 340,
   "id": "becba134-7434-4631-ac36-625d665685d9",
   "metadata": {},
   "outputs": [],
   "source": [
    "copy_arr=arr1.copy()"
   ]
  },
  {
   "cell_type": "code",
   "execution_count": 341,
   "id": "b7a7b4f9-d286-45d5-bb1b-9e0149f81968",
   "metadata": {},
   "outputs": [
    {
     "data": {
      "text/plain": [
       "array([1, 2, 4, 5, 7, 8])"
      ]
     },
     "execution_count": 341,
     "metadata": {},
     "output_type": "execute_result"
    }
   ],
   "source": [
    "copy_arr"
   ]
  },
  {
   "cell_type": "code",
   "execution_count": 342,
   "id": "89d218a3-a6f4-4aff-8569-fdc374a2ea96",
   "metadata": {},
   "outputs": [],
   "source": [
    "copy_arr[0]=11"
   ]
  },
  {
   "cell_type": "code",
   "execution_count": 343,
   "id": "7ae28a94-8641-4743-8a04-f147b4e1b763",
   "metadata": {},
   "outputs": [
    {
     "data": {
      "text/plain": [
       "array([11,  2,  4,  5,  7,  8])"
      ]
     },
     "execution_count": 343,
     "metadata": {},
     "output_type": "execute_result"
    }
   ],
   "source": [
    "copy_arr"
   ]
  },
  {
   "cell_type": "code",
   "execution_count": 344,
   "id": "40864213-61cd-47a9-b8a1-dda64d35ec27",
   "metadata": {},
   "outputs": [
    {
     "name": "stdout",
     "output_type": "stream",
     "text": [
      "Modifying copy_arr does not affect arr1.\n"
     ]
    }
   ],
   "source": [
    "if np.array_equal(arr1, copy_arr):\n",
    "    print(\"Modifying copy_arr affects arr1.\")\n",
    "else:\n",
    "    print(\"Modifying copy_arr does not affect arr1.\")"
   ]
  },
  {
   "cell_type": "code",
   "execution_count": 303,
   "id": "7c68e94c-641a-49dd-a175-411ba612ca2c",
   "metadata": {},
   "outputs": [],
   "source": [
    "#77. Create a 2D NumPy array `matrix` of shape (3, 3) with random integers. Extract a slice `view_slice` from the matrix. Modify an element in `view_slice` and observe if it changes the original `matrix`"
   ]
  },
  {
   "cell_type": "code",
   "execution_count": 345,
   "id": "22761cd7-41e9-4cdb-941e-656a22adbcb6",
   "metadata": {},
   "outputs": [],
   "source": [
    "arr=np.random.rand(3,3)"
   ]
  },
  {
   "cell_type": "code",
   "execution_count": 346,
   "id": "ddcf4e9d-53d9-48b7-97e7-d4f78752c5e8",
   "metadata": {},
   "outputs": [],
   "source": [
    "new_mat=np.matrix(arr)"
   ]
  },
  {
   "cell_type": "code",
   "execution_count": 347,
   "id": "664fe407-72ec-4d66-bbde-2ed0c3eaabfe",
   "metadata": {},
   "outputs": [
    {
     "data": {
      "text/plain": [
       "matrix([[0.65845156, 0.49840348, 0.48123117],\n",
       "        [0.22724828, 0.72893313, 0.91538398],\n",
       "        [0.98881268, 0.91102464, 0.8459319 ]])"
      ]
     },
     "execution_count": 347,
     "metadata": {},
     "output_type": "execute_result"
    }
   ],
   "source": [
    "new_mat"
   ]
  },
  {
   "cell_type": "code",
   "execution_count": 348,
   "id": "a2515db8-88d8-4c16-964c-f9e6a7da3d53",
   "metadata": {},
   "outputs": [],
   "source": [
    "view_slice=new_mat[:2,:2]"
   ]
  },
  {
   "cell_type": "code",
   "execution_count": 349,
   "id": "c92f594c-8857-43cc-bff4-b1cbb9585427",
   "metadata": {},
   "outputs": [
    {
     "data": {
      "text/plain": [
       "matrix([[0.65845156, 0.49840348],\n",
       "        [0.22724828, 0.72893313]])"
      ]
     },
     "execution_count": 349,
     "metadata": {},
     "output_type": "execute_result"
    }
   ],
   "source": [
    "view_slice"
   ]
  },
  {
   "cell_type": "code",
   "execution_count": 350,
   "id": "52ac5a02-bcdf-4cc2-84b5-01fb14e268ec",
   "metadata": {},
   "outputs": [],
   "source": [
    "view_slice[0,0]=100"
   ]
  },
  {
   "cell_type": "code",
   "execution_count": 351,
   "id": "23d5ac4e-383d-4663-b70b-320c5e2439c1",
   "metadata": {},
   "outputs": [
    {
     "data": {
      "text/plain": [
       "matrix([[100.        ,   0.49840348],\n",
       "        [  0.22724828,   0.72893313]])"
      ]
     },
     "execution_count": 351,
     "metadata": {},
     "output_type": "execute_result"
    }
   ],
   "source": [
    "view_slice"
   ]
  },
  {
   "cell_type": "code",
   "execution_count": 353,
   "id": "3cb104d3-a326-4c07-924c-9ffeb61540ac",
   "metadata": {},
   "outputs": [
    {
     "data": {
      "text/plain": [
       "matrix([[100.        ,   0.49840348,   0.48123117],\n",
       "        [  0.22724828,   0.72893313,   0.91538398],\n",
       "        [  0.98881268,   0.91102464,   0.8459319 ]])"
      ]
     },
     "execution_count": 353,
     "metadata": {},
     "output_type": "execute_result"
    }
   ],
   "source": [
    "new_mat"
   ]
  },
  {
   "cell_type": "code",
   "execution_count": 357,
   "id": "0e024a91-e9f4-4cb2-a19b-3f1f3ae17e12",
   "metadata": {},
   "outputs": [],
   "source": [
    "# yes it alter the new_mat"
   ]
  },
  {
   "cell_type": "code",
   "execution_count": 312,
   "id": "1e66a2ac-11d3-4a35-9cd4-4c076f4b8131",
   "metadata": {},
   "outputs": [],
   "source": [
    "#78 >>>>create a NumPy array `array_a` of shape (4, 3) with sequential integers from 1 to 12. Extract a slice `view_b` from `array_a` and broadcast the addition of 5 to view_b. Check if it alters the original `array_a`."
   ]
  },
  {
   "cell_type": "code",
   "execution_count": 314,
   "id": "ec0e454b-649a-4a7e-9c79-35ac9055e1c0",
   "metadata": {},
   "outputs": [],
   "source": [
    "array_a=np.array([[1,2,3],[4,5,6],[7,8,9],[10,11,12]])"
   ]
  },
  {
   "cell_type": "code",
   "execution_count": 315,
   "id": "77000a1a-6240-4079-b482-4ac1f534efc6",
   "metadata": {},
   "outputs": [
    {
     "data": {
      "text/plain": [
       "array([[ 1,  2,  3],\n",
       "       [ 4,  5,  6],\n",
       "       [ 7,  8,  9],\n",
       "       [10, 11, 12]])"
      ]
     },
     "execution_count": 315,
     "metadata": {},
     "output_type": "execute_result"
    }
   ],
   "source": [
    "array_a"
   ]
  },
  {
   "cell_type": "code",
   "execution_count": 316,
   "id": "b8062e71-09bc-4a55-b366-ea90eac902b4",
   "metadata": {},
   "outputs": [],
   "source": [
    "view_b=array_a[:2,:2]"
   ]
  },
  {
   "cell_type": "code",
   "execution_count": 317,
   "id": "16181914-3228-4eb7-b5da-878a39798646",
   "metadata": {},
   "outputs": [
    {
     "data": {
      "text/plain": [
       "array([[1, 2],\n",
       "       [4, 5]])"
      ]
     },
     "execution_count": 317,
     "metadata": {},
     "output_type": "execute_result"
    }
   ],
   "source": [
    "view_b"
   ]
  },
  {
   "cell_type": "code",
   "execution_count": 318,
   "id": "4502e812-c7b6-4164-82c9-288a801e5f01",
   "metadata": {},
   "outputs": [
    {
     "data": {
      "text/plain": [
       "array([[ 6,  7],\n",
       "       [ 9, 10]])"
      ]
     },
     "execution_count": 318,
     "metadata": {},
     "output_type": "execute_result"
    }
   ],
   "source": [
    "view_b+5  # broadcast the addition of 5"
   ]
  },
  {
   "cell_type": "code",
   "execution_count": 319,
   "id": "507fa3a1-1049-439b-9205-f6c86bf0f43a",
   "metadata": {},
   "outputs": [],
   "source": [
    "#There is no alter to the array_a"
   ]
  },
  {
   "cell_type": "code",
   "execution_count": 320,
   "id": "7d9dc468-0097-4bdf-b73d-80fbe586ae7d",
   "metadata": {},
   "outputs": [],
   "source": [
    "#79 >>>>>Create a NumPy array `orig_array` of shape (2, 4) with values from 1 to 8. Create a reshaped vie`reshaped_view` of shape (4, 2) from orig_array. Modify an element in `reshaped_view` and check if it reflects changes in the original `orig_array`."
   ]
  },
  {
   "cell_type": "code",
   "execution_count": 323,
   "id": "568a66d0-6c32-4d63-952a-ec0d5ad9d2ad",
   "metadata": {},
   "outputs": [],
   "source": [
    "orig_array=np.array([[1,2,3,4],[5,6,7,8]])"
   ]
  },
  {
   "cell_type": "code",
   "execution_count": 324,
   "id": "50684b97-5782-43fb-8313-355ae3fbdd71",
   "metadata": {},
   "outputs": [],
   "source": [
    "reshaped_view=orig_array.reshape(4,2)"
   ]
  },
  {
   "cell_type": "code",
   "execution_count": 326,
   "id": "c319b8c2-d031-445a-bceb-da7e55c90375",
   "metadata": {},
   "outputs": [
    {
     "data": {
      "text/plain": [
       "array([[1, 2],\n",
       "       [3, 4],\n",
       "       [5, 6],\n",
       "       [7, 8]])"
      ]
     },
     "execution_count": 326,
     "metadata": {},
     "output_type": "execute_result"
    }
   ],
   "source": [
    "reshaped_view"
   ]
  },
  {
   "cell_type": "code",
   "execution_count": 328,
   "id": "57486292-c849-495a-b450-e0a642f895f9",
   "metadata": {},
   "outputs": [
    {
     "data": {
      "text/plain": [
       "(4, 2)"
      ]
     },
     "execution_count": 328,
     "metadata": {},
     "output_type": "execute_result"
    }
   ],
   "source": [
    "reshaped_view.shape"
   ]
  },
  {
   "cell_type": "code",
   "execution_count": 329,
   "id": "3f04fe50-b055-487d-9715-dd3329f803c6",
   "metadata": {},
   "outputs": [],
   "source": [
    "reshaped_view[0,1]=121"
   ]
  },
  {
   "cell_type": "code",
   "execution_count": 333,
   "id": "e27ca874-68ea-40fc-923b-bc4fc27cc5b8",
   "metadata": {},
   "outputs": [
    {
     "data": {
      "text/plain": [
       "array([[  1, 121],\n",
       "       [  3,   4],\n",
       "       [  5,   6],\n",
       "       [  7,   8]])"
      ]
     },
     "execution_count": 333,
     "metadata": {},
     "output_type": "execute_result"
    }
   ],
   "source": [
    "reshaped_view"
   ]
  },
  {
   "cell_type": "code",
   "execution_count": 334,
   "id": "7500ba9c-bc7f-4daf-8276-5dd27fb097c0",
   "metadata": {},
   "outputs": [
    {
     "data": {
      "text/plain": [
       "array([[  1, 121,   3,   4],\n",
       "       [  5,   6,   7,   8]])"
      ]
     },
     "execution_count": 334,
     "metadata": {},
     "output_type": "execute_result"
    }
   ],
   "source": [
    "orig_array"
   ]
  },
  {
   "cell_type": "code",
   "execution_count": 358,
   "id": "77587500-bcef-4796-9d2e-5d4aedffe76d",
   "metadata": {},
   "outputs": [],
   "source": [
    "# yes the rehsaped_view alter the orig_array"
   ]
  },
  {
   "cell_type": "code",
   "execution_count": 360,
   "id": "87dfe1df-02f7-4eeb-99bb-5be454f0d98f",
   "metadata": {},
   "outputs": [],
   "source": [
    "#80 >>>>>>>>Create a NumPy array `data` of shape (3, 4) with random integers. Extract a copy `data_copy` of elements greater than 5. Modify an element in `data_copy` and verify if it affects the original `data`."
   ]
  },
  {
   "cell_type": "code",
   "execution_count": 373,
   "id": "9eddb14f-9081-4685-b32c-4918289c41a8",
   "metadata": {},
   "outputs": [],
   "source": [
    "data=np.random.randint(0,10,(3,4))"
   ]
  },
  {
   "cell_type": "code",
   "execution_count": 374,
   "id": "26178d33-43f7-4e57-815b-3d06bc6e4d6b",
   "metadata": {},
   "outputs": [
    {
     "data": {
      "text/plain": [
       "array([[7, 7, 2, 2],\n",
       "       [1, 8, 2, 8],\n",
       "       [7, 3, 9, 3]])"
      ]
     },
     "execution_count": 374,
     "metadata": {},
     "output_type": "execute_result"
    }
   ],
   "source": [
    "data"
   ]
  },
  {
   "cell_type": "code",
   "execution_count": 375,
   "id": "1264913f-4626-4798-b00a-523d5e960777",
   "metadata": {},
   "outputs": [],
   "source": [
    "data_copy=data[data>5]"
   ]
  },
  {
   "cell_type": "code",
   "execution_count": 376,
   "id": "7a41e083-e10e-452a-8b59-9f04f60cdc62",
   "metadata": {},
   "outputs": [
    {
     "data": {
      "text/plain": [
       "array([7, 7, 8, 8, 7, 9])"
      ]
     },
     "execution_count": 376,
     "metadata": {},
     "output_type": "execute_result"
    }
   ],
   "source": [
    "data_copy"
   ]
  },
  {
   "cell_type": "code",
   "execution_count": 377,
   "id": "611a1707-5600-4ac6-bb6c-65a7fd78ea67",
   "metadata": {},
   "outputs": [],
   "source": [
    "data_copy[4]=22"
   ]
  },
  {
   "cell_type": "code",
   "execution_count": 378,
   "id": "bee4145b-c563-4f8a-b87c-c790951e70fc",
   "metadata": {},
   "outputs": [
    {
     "data": {
      "text/plain": [
       "array([ 7,  7,  8,  8, 22,  9])"
      ]
     },
     "execution_count": 378,
     "metadata": {},
     "output_type": "execute_result"
    }
   ],
   "source": [
    "data_copy"
   ]
  },
  {
   "cell_type": "code",
   "execution_count": 379,
   "id": "593f100c-f6e9-4e97-85c4-8419b70bff4d",
   "metadata": {},
   "outputs": [
    {
     "data": {
      "text/plain": [
       "array([[7, 7, 2, 2],\n",
       "       [1, 8, 2, 8],\n",
       "       [7, 3, 9, 3]])"
      ]
     },
     "execution_count": 379,
     "metadata": {},
     "output_type": "execute_result"
    }
   ],
   "source": [
    "data"
   ]
  },
  {
   "cell_type": "code",
   "execution_count": 380,
   "id": "4e7f74b1-a1d9-4280-835b-25b69478762d",
   "metadata": {},
   "outputs": [],
   "source": [
    "# There is no change in the data due to change in the data_copy"
   ]
  },
  {
   "cell_type": "code",
   "execution_count": 381,
   "id": "c4ef38c0-2773-40da-92be-58102bbac4d7",
   "metadata": {},
   "outputs": [],
   "source": [
    "#81 >>>>> Create two matrices A and B of identical shape containing integers and perform addition and subtraction operations between them."
   ]
  },
  {
   "cell_type": "code",
   "execution_count": 382,
   "id": "4a6f90a4-7f18-4cc0-a375-90ccf5879977",
   "metadata": {},
   "outputs": [],
   "source": [
    "matrix1=np.matrix([[1,2,3],[2,3,4],[2,4,8]])"
   ]
  },
  {
   "cell_type": "code",
   "execution_count": 383,
   "id": "1cf14845-581c-4ec2-852a-27b5b73073e8",
   "metadata": {},
   "outputs": [],
   "source": [
    "matrix2=np.matrix([[2,3,4],[4,5,7],[1,2,4]])"
   ]
  },
  {
   "cell_type": "code",
   "execution_count": 384,
   "id": "b20d83d3-b5d7-4748-9fa7-913ada6b0038",
   "metadata": {},
   "outputs": [
    {
     "data": {
      "text/plain": [
       "matrix([[ 3,  5,  7],\n",
       "        [ 6,  8, 11],\n",
       "        [ 3,  6, 12]])"
      ]
     },
     "execution_count": 384,
     "metadata": {},
     "output_type": "execute_result"
    }
   ],
   "source": [
    "matrix1+matrix2  # addition"
   ]
  },
  {
   "cell_type": "code",
   "execution_count": 385,
   "id": "645ba33b-8985-4fac-97d8-22fc712c706e",
   "metadata": {},
   "outputs": [
    {
     "data": {
      "text/plain": [
       "matrix([[ 1,  1,  1],\n",
       "        [ 2,  2,  3],\n",
       "        [-1, -2, -4]])"
      ]
     },
     "execution_count": 385,
     "metadata": {},
     "output_type": "execute_result"
    }
   ],
   "source": [
    "matrix2-matrix1  # subtraction"
   ]
  },
  {
   "cell_type": "code",
   "execution_count": 386,
   "id": "bbf1baaf-64c4-4a75-8ed7-a431f61b0758",
   "metadata": {},
   "outputs": [],
   "source": [
    "#82 >>>>> Generate two matrices `C` (3x2) and `D` (2x4) and perform matrix multiplication."
   ]
  },
  {
   "cell_type": "code",
   "execution_count": 387,
   "id": "08ebadff-4568-430c-aef9-9639e8742c53",
   "metadata": {},
   "outputs": [],
   "source": [
    "a=np.random.randint(1,10,(3,2))"
   ]
  },
  {
   "cell_type": "code",
   "execution_count": 388,
   "id": "34cdd22a-c9b1-4ec7-8ae3-4ff9e9bdb0d8",
   "metadata": {},
   "outputs": [
    {
     "data": {
      "text/plain": [
       "array([[6, 9],\n",
       "       [3, 1],\n",
       "       [6, 6]])"
      ]
     },
     "execution_count": 388,
     "metadata": {},
     "output_type": "execute_result"
    }
   ],
   "source": [
    "a"
   ]
  },
  {
   "cell_type": "code",
   "execution_count": 389,
   "id": "36b1976f-64b3-4b34-8294-f68cd97e8dca",
   "metadata": {},
   "outputs": [],
   "source": [
    "matrix1=np.matrix(a)"
   ]
  },
  {
   "cell_type": "code",
   "execution_count": 390,
   "id": "bdcc5748-04bf-4b4a-8ee3-3b7e4586c10e",
   "metadata": {},
   "outputs": [
    {
     "data": {
      "text/plain": [
       "matrix([[6, 9],\n",
       "        [3, 1],\n",
       "        [6, 6]])"
      ]
     },
     "execution_count": 390,
     "metadata": {},
     "output_type": "execute_result"
    }
   ],
   "source": [
    "matrix1"
   ]
  },
  {
   "cell_type": "code",
   "execution_count": 392,
   "id": "c1dc07eb-ecd0-4481-a463-37f84d033ebd",
   "metadata": {},
   "outputs": [],
   "source": [
    "b=np.random.randint(2,8,(2,3))"
   ]
  },
  {
   "cell_type": "code",
   "execution_count": 393,
   "id": "20ade315-55c2-42c2-8299-d3850d985dd1",
   "metadata": {},
   "outputs": [],
   "source": [
    "matrix2=np.matrix(b)"
   ]
  },
  {
   "cell_type": "code",
   "execution_count": 394,
   "id": "5461c7e4-226b-495d-9d71-91071db9f70f",
   "metadata": {},
   "outputs": [
    {
     "data": {
      "text/plain": [
       "matrix([[7, 7, 3],\n",
       "        [3, 4, 7]])"
      ]
     },
     "execution_count": 394,
     "metadata": {},
     "output_type": "execute_result"
    }
   ],
   "source": [
    "matrix2"
   ]
  },
  {
   "cell_type": "code",
   "execution_count": 395,
   "id": "3b6169cf-69f0-4f05-9b44-6c5326f03bdb",
   "metadata": {},
   "outputs": [
    {
     "data": {
      "text/plain": [
       "matrix([[69, 78, 81],\n",
       "        [24, 25, 16],\n",
       "        [60, 66, 60]])"
      ]
     },
     "execution_count": 395,
     "metadata": {},
     "output_type": "execute_result"
    }
   ],
   "source": [
    "matrix1@matrix2"
   ]
  },
  {
   "cell_type": "code",
   "execution_count": 396,
   "id": "ba5a0acd-c64c-4a10-9d98-103ff2812280",
   "metadata": {},
   "outputs": [],
   "source": [
    " #83.Create a matrix `E` and find its transpose"
   ]
  },
  {
   "cell_type": "code",
   "execution_count": 397,
   "id": "e1193e45-bb7c-4b43-997d-37e2b43dd1af",
   "metadata": {},
   "outputs": [],
   "source": [
    "E=np.matrix([[1,2,3],[1,3,4],[1,3,5]])"
   ]
  },
  {
   "cell_type": "code",
   "execution_count": 400,
   "id": "581dfedd-d1fe-40ef-b2b2-db9d24a2046e",
   "metadata": {},
   "outputs": [
    {
     "data": {
      "text/plain": [
       "matrix([[1, 2, 3],\n",
       "        [1, 3, 4],\n",
       "        [1, 3, 5]])"
      ]
     },
     "execution_count": 400,
     "metadata": {},
     "output_type": "execute_result"
    }
   ],
   "source": [
    "E"
   ]
  },
  {
   "cell_type": "code",
   "execution_count": 401,
   "id": "e6b33f76-f348-46f6-9c5a-801db94fc4ab",
   "metadata": {},
   "outputs": [],
   "source": [
    "transpose_E=E.T"
   ]
  },
  {
   "cell_type": "code",
   "execution_count": 402,
   "id": "f257a0ba-790c-4d45-8dab-a77c59a561f1",
   "metadata": {},
   "outputs": [
    {
     "data": {
      "text/plain": [
       "matrix([[1, 1, 1],\n",
       "        [2, 3, 3],\n",
       "        [3, 4, 5]])"
      ]
     },
     "execution_count": 402,
     "metadata": {},
     "output_type": "execute_result"
    }
   ],
   "source": [
    "transpose_E"
   ]
  },
  {
   "cell_type": "code",
   "execution_count": 403,
   "id": "66878e7b-09f0-4d03-bf3f-bc73ae635325",
   "metadata": {},
   "outputs": [],
   "source": [
    "#84 >>>> Generate a square matrix `F` and compute its determinant."
   ]
  },
  {
   "cell_type": "code",
   "execution_count": 411,
   "id": "9657469d-bcd4-4310-a830-9fffd4b16531",
   "metadata": {},
   "outputs": [],
   "source": [
    "F=np.matrix([[1,5,3],[4,5,6],[7,8,9]])"
   ]
  },
  {
   "cell_type": "code",
   "execution_count": 412,
   "id": "73616ac5-140d-4f4b-bfff-d6598908e3bb",
   "metadata": {},
   "outputs": [
    {
     "data": {
      "text/plain": [
       "18.000000000000014"
      ]
     },
     "execution_count": 412,
     "metadata": {},
     "output_type": "execute_result"
    }
   ],
   "source": [
    "np.linalg.det(F)"
   ]
  },
  {
   "cell_type": "code",
   "execution_count": 413,
   "id": "e36bcc70-24ee-4248-8e3d-62dda0321797",
   "metadata": {},
   "outputs": [],
   "source": [
    "#85 >>>>Create a square matrix `G` and find its inverse."
   ]
  },
  {
   "cell_type": "code",
   "execution_count": 414,
   "id": "d9977d5e-2e5c-4e2b-9957-e6621fd90355",
   "metadata": {},
   "outputs": [],
   "source": [
    "G=np.matrix([[2,3,4],[4,6,7],[1,4,7]])"
   ]
  },
  {
   "cell_type": "code",
   "execution_count": 415,
   "id": "0126274f-287b-43a1-ac6d-651aab1447fe",
   "metadata": {},
   "outputs": [
    {
     "data": {
      "text/plain": [
       "matrix([[ 2.8, -1. , -0.6],\n",
       "        [-4.2,  2. ,  0.4],\n",
       "        [ 2. , -1. ,  0. ]])"
      ]
     },
     "execution_count": 415,
     "metadata": {},
     "output_type": "execute_result"
    }
   ],
   "source": [
    "np.linalg.inv(G)"
   ]
  },
  {
   "cell_type": "code",
   "execution_count": null,
   "id": "63e16469-3c67-42b1-a12d-11d30b796778",
   "metadata": {},
   "outputs": [],
   "source": []
  }
 ],
 "metadata": {
  "kernelspec": {
   "display_name": "Python 3 (ipykernel)",
   "language": "python",
   "name": "python3"
  },
  "language_info": {
   "codemirror_mode": {
    "name": "ipython",
    "version": 3
   },
   "file_extension": ".py",
   "mimetype": "text/x-python",
   "name": "python",
   "nbconvert_exporter": "python",
   "pygments_lexer": "ipython3",
   "version": "3.10.8"
  }
 },
 "nbformat": 4,
 "nbformat_minor": 5
}
